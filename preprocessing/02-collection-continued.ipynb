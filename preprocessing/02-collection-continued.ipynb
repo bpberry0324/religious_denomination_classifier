{
 "cells": [
  {
   "cell_type": "markdown",
   "id": "eba68e0d-6e76-4d7a-85bb-1ee47822338c",
   "metadata": {},
   "source": [
    "## Additional Data Collection"
   ]
  },
  {
   "cell_type": "markdown",
   "id": "001b3fa5-59eb-4f41-b7aa-35d73c1bab79",
   "metadata": {},
   "source": [
    "As indicated in the previous notebook (`01-collection.ipynb`), the data collection process was done in two batches to ensure an adequate sample size for each subreddit. Because of the time-intensive nature of this and other phases of the survey, some similar/related processes were divided into more than one notebook so that imformation could be refreshed and cleaned as efficiently as possible.\n",
    "\n",
    "Imports:"
   ]
  },
  {
   "cell_type": "code",
   "execution_count": 1,
   "id": "5c036d60-3330-49d6-9dca-fd4896232fe3",
   "metadata": {
    "tags": []
   },
   "outputs": [],
   "source": [
    "import requests\n",
    "import pandas as pd\n",
    "import time\n",
    "import datetime as dt"
   ]
  },
  {
   "cell_type": "markdown",
   "id": "53d733d1-04d3-4606-8dfe-4c4edbe64b0f",
   "metadata": {},
   "source": [
    "Previous dataset for the Catholicism sibreddit is read in to extract the lowest timestamp (i.e. the ticker for the oldest post included). "
   ]
  },
  {
   "cell_type": "code",
   "execution_count": 3,
   "id": "b7eaa2ac-1cba-4e0b-9fcf-3b666c139e14",
   "metadata": {},
   "outputs": [],
   "source": [
    "buffer = pd.read_csv('../datasets/Catholicism.csv')"
   ]
  },
  {
   "cell_type": "code",
   "execution_count": 6,
   "id": "9b21f075-de43-4fca-99f6-b4ae0fd31eb6",
   "metadata": {},
   "outputs": [],
   "source": [
    "uts = buffer['created_utc'].min()"
   ]
  },
  {
   "cell_type": "code",
   "execution_count": 7,
   "id": "beb33208-6a32-4ced-8aeb-9a572b336973",
   "metadata": {},
   "outputs": [
    {
     "data": {
      "text/plain": [
       "1623577170"
      ]
     },
     "execution_count": 7,
     "metadata": {},
     "output_type": "execute_result"
    }
   ],
   "source": [
    "uts"
   ]
  },
  {
   "cell_type": "markdown",
   "id": "4f3f6ce6-a613-4322-9da6-5a2023ccc6aa",
   "metadata": {},
   "source": [
    "Below, a function similar to that in `01-collection.ipynb` constructs a PushShift URL from each subreddit's particular information. In this case, a Unix timestamp parameter is added. Also in each case, only one extra batch of posts was needed, so the `2` at the end of the resulting `.csv` name is simply hardcoded."
   ]
  },
  {
   "cell_type": "code",
   "execution_count": 14,
   "id": "065316ea-007e-4c83-8eb9-b0421a0b833c",
   "metadata": {},
   "outputs": [],
   "source": [
    "def reddit_scrape(subreddit, unix_time_stamp):\n",
    "    s_type = 'submission'\n",
    "    \n",
    "    url = f'https://api.pushshift.io/reddit/search/{s_type}/?subreddit={subreddit}&before={unix_time_stamp}&size=100'\n",
    "    \n",
    "    time.sleep(5)\n",
    "    res = requests.get(url)\n",
    "    post_list = res.json()['data']\n",
    "    full_df = pd.DataFrame(post_list)[['title', 'author', 'created_utc', 'selftext', 'subreddit' ]]\n",
    "    print(1)\n",
    "    \n",
    "    for n in range(1, 45):\n",
    "        uts = full_df['created_utc'].min()\n",
    "        url = f'https://api.pushshift.io/reddit/search/{s_type}/?subreddit={subreddit}&before={uts}&size=100'\n",
    "\n",
    "        time.sleep(5)\n",
    "        res = requests.get(url)\n",
    "\n",
    "        post_list = res.json()['data']\n",
    "        temp_df = pd.DataFrame(post_list)[['title', 'author', 'created_utc', 'selftext', 'subreddit' ]]\n",
    "\n",
    "        full_df = pd.concat([full_df, temp_df])\n",
    "        \n",
    "        print(n+1)\n",
    "        \n",
    "    full_df.to_csv('../datasets/' + subreddit + '2.csv', index = False)"
   ]
  },
  {
   "cell_type": "markdown",
   "id": "41bbc91a-643d-4178-9318-b20e3038fd75",
   "metadata": {},
   "source": [
    "Additional data gathered from the Catholicism subreddit:"
   ]
  },
  {
   "cell_type": "code",
   "execution_count": 9,
   "id": "7f91b681-9e43-4565-9c90-7be0abb58ba6",
   "metadata": {},
   "outputs": [
    {
     "name": "stdout",
     "output_type": "stream",
     "text": [
      "1\n",
      "2\n",
      "3\n",
      "4\n",
      "5\n",
      "6\n",
      "7\n",
      "8\n",
      "9\n",
      "10\n",
      "11\n",
      "12\n",
      "13\n",
      "14\n",
      "15\n",
      "16\n",
      "17\n",
      "18\n",
      "19\n",
      "20\n",
      "21\n",
      "22\n",
      "23\n",
      "24\n",
      "25\n",
      "26\n",
      "27\n",
      "28\n",
      "29\n",
      "30\n",
      "31\n",
      "32\n",
      "33\n",
      "34\n",
      "35\n",
      "36\n",
      "37\n",
      "38\n",
      "39\n",
      "40\n",
      "41\n",
      "42\n",
      "43\n",
      "44\n",
      "45\n",
      "46\n",
      "47\n",
      "48\n",
      "49\n",
      "50\n"
     ]
    }
   ],
   "source": [
    "reddit_scrape('Catholicism', uts)"
   ]
  },
  {
   "cell_type": "markdown",
   "id": "acc8684a-c044-4adb-891c-07e70f3ae83d",
   "metadata": {},
   "source": [
    "Similarly, more data is gathered from the Orthodoxy subreddit. Again, the unique Unix timestamp is read in and the function is called, resulting in an additional `.csv`."
   ]
  },
  {
   "cell_type": "code",
   "execution_count": 10,
   "id": "bc35c155-295e-4aac-8e3a-0c875a226996",
   "metadata": {},
   "outputs": [],
   "source": [
    "buffer = pd.read_csv('../datasets/OrthodoxChristianity.csv')"
   ]
  },
  {
   "cell_type": "code",
   "execution_count": 11,
   "id": "e1423d89-5cf6-476a-a841-3a8fe9059f15",
   "metadata": {},
   "outputs": [],
   "source": [
    "uts = buffer['created_utc'].min()"
   ]
  },
  {
   "cell_type": "code",
   "execution_count": 12,
   "id": "afcc46c2-5b87-4878-a430-e503dfcd3743",
   "metadata": {},
   "outputs": [
    {
     "data": {
      "text/plain": [
       "1607351421"
      ]
     },
     "execution_count": 12,
     "metadata": {},
     "output_type": "execute_result"
    }
   ],
   "source": [
    "uts"
   ]
  },
  {
   "cell_type": "code",
   "execution_count": 15,
   "id": "72dbea88-c6f1-41ae-b316-a9a88ac8c322",
   "metadata": {},
   "outputs": [
    {
     "name": "stdout",
     "output_type": "stream",
     "text": [
      "1\n",
      "2\n",
      "3\n",
      "4\n",
      "5\n",
      "6\n",
      "7\n",
      "8\n",
      "9\n",
      "10\n",
      "11\n",
      "12\n",
      "13\n",
      "14\n",
      "15\n",
      "16\n",
      "17\n",
      "18\n",
      "19\n",
      "20\n",
      "21\n",
      "22\n",
      "23\n",
      "24\n",
      "25\n",
      "26\n",
      "27\n",
      "28\n",
      "29\n",
      "30\n",
      "31\n",
      "32\n",
      "33\n",
      "34\n",
      "35\n",
      "36\n",
      "37\n",
      "38\n",
      "39\n",
      "40\n",
      "41\n",
      "42\n",
      "43\n",
      "44\n",
      "45\n"
     ]
    }
   ],
   "source": [
    "reddit_scrape('OrthodoxChristianity', uts)"
   ]
  },
  {
   "cell_type": "markdown",
   "id": "141020d9-0e9f-461a-bd73-16c971d314b1",
   "metadata": {},
   "source": [
    "The disparate dataframes are concatenated in the next notebook (`03-cleaning.ipynb`)"
   ]
  }
 ],
 "metadata": {
  "kernelspec": {
   "display_name": "Python 3",
   "language": "python",
   "name": "python3"
  },
  "language_info": {
   "codemirror_mode": {
    "name": "ipython",
    "version": 3
   },
   "file_extension": ".py",
   "mimetype": "text/x-python",
   "name": "python",
   "nbconvert_exporter": "python",
   "pygments_lexer": "ipython3",
   "version": "3.8.8"
  }
 },
 "nbformat": 4,
 "nbformat_minor": 5
}
