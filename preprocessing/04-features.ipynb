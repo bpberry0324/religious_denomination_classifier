{
 "cells": [
  {
   "cell_type": "markdown",
   "id": "a9fb8cd5-0075-4109-8be4-496e537b1886",
   "metadata": {},
   "source": [
    "## Feature Engineering"
   ]
  },
  {
   "cell_type": "markdown",
   "id": "e63c0763-ebef-44ab-ab28-f39be49f1adc",
   "metadata": {},
   "source": [
    "The project allowed for the exploration of a few additional features, if only to round out the insights gathered from the modeling phase. Below, features engineered via the sentiment analysis function from the `transformers` module are added to the main dataset.\n",
    "\n",
    "Imports:"
   ]
  },
  {
   "cell_type": "code",
   "execution_count": 1,
   "id": "1daf4f7b-4dfc-41f0-b50b-6fe54425fd2f",
   "metadata": {
    "tags": []
   },
   "outputs": [],
   "source": [
    "import pandas as pd\n",
    "import numpy as np\n",
    "import matplotlib.pyplot as plt\n",
    "import seaborn as sns\n",
    "\n",
    "from transformers import pipeline"
   ]
  },
  {
   "cell_type": "markdown",
   "id": "8be819b9-07c2-411d-9279-8a9112dc9995",
   "metadata": {},
   "source": [
    "Dataset read-in:"
   ]
  },
  {
   "cell_type": "code",
   "execution_count": 2,
   "id": "4068ac1f-5b0c-4c9b-bad9-43f97ff3e570",
   "metadata": {},
   "outputs": [],
   "source": [
    "df = pd.read_csv('../datasets/main.csv').drop(columns='Unnamed: 0')"
   ]
  },
  {
   "cell_type": "markdown",
   "id": "62d76b5f-4be3-4770-bd58-9267f53c008e",
   "metadata": {},
   "source": [
    "Pipeline object created:"
   ]
  },
  {
   "cell_type": "code",
   "execution_count": 3,
   "id": "6589e0c2-7497-40ea-9ddd-f33afe1c4e1f",
   "metadata": {},
   "outputs": [],
   "source": [
    "sent = pipeline('sentiment-analysis')"
   ]
  },
  {
   "cell_type": "markdown",
   "id": "54ac404e-dce8-4d82-8a5d-f7a975abf16d",
   "metadata": {},
   "source": [
    "Below, two functions generate the \"direction\" of the sentiment and the probability assigned to this analysis, respectively. Columns are added for each of these features in the main dataframe."
   ]
  },
  {
   "cell_type": "code",
   "execution_count": 12,
   "id": "7d1ed7ab-0cce-4a4e-9e25-536808090f20",
   "metadata": {},
   "outputs": [],
   "source": [
    "def sent_label(x):\n",
    "    try:\n",
    "        return sent(x)[0]['label']\n",
    "    except:\n",
    "        return np.nan"
   ]
  },
  {
   "cell_type": "code",
   "execution_count": 13,
   "id": "51020b39-2f39-4cd4-a420-7a68cc45b113",
   "metadata": {},
   "outputs": [],
   "source": [
    "df['sent_label'] = df['selftext'].apply(sent_label)"
   ]
  },
  {
   "cell_type": "code",
   "execution_count": 14,
   "id": "d34b4828-120c-44a8-ab97-f52d56927620",
   "metadata": {},
   "outputs": [],
   "source": [
    "def sent_score(x):\n",
    "    try:\n",
    "        return sent(x)[0]['score']\n",
    "    except:\n",
    "        return np.nan"
   ]
  },
  {
   "cell_type": "code",
   "execution_count": 16,
   "id": "17eecd74-bb95-4bb0-985b-42504a1aeb87",
   "metadata": {},
   "outputs": [],
   "source": [
    "df['sent_score'] = df['selftext'].apply(sent_score)"
   ]
  },
  {
   "cell_type": "markdown",
   "id": "6755af22-98b6-4074-b63e-34b21c2af345",
   "metadata": {},
   "source": [
    "A previous cell was deleted in error during the editing of this notebook containing the code that writes the resulting dataframe to `main_revised.csv` in the `datasets` folder. Due to the time constraints entailed by this project, its re-adding will be included in a future revision."
   ]
  }
 ],
 "metadata": {
  "kernelspec": {
   "display_name": "Python 3",
   "language": "python",
   "name": "python3"
  },
  "language_info": {
   "codemirror_mode": {
    "name": "ipython",
    "version": 3
   },
   "file_extension": ".py",
   "mimetype": "text/x-python",
   "name": "python",
   "nbconvert_exporter": "python",
   "pygments_lexer": "ipython3",
   "version": "3.8.8"
  }
 },
 "nbformat": 4,
 "nbformat_minor": 5
}
