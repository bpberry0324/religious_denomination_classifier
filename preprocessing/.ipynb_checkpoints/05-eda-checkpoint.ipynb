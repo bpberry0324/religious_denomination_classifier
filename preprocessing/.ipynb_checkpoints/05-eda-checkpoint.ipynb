{
 "cells": [
  {
   "cell_type": "code",
   "execution_count": 1,
   "id": "bb65981e-7dcc-4164-87b2-671d8cea61c4",
   "metadata": {},
   "outputs": [],
   "source": [
    "import pandas as pd\n",
    "import numpy as np\n",
    "import matplotlib.pyplot as plt\n",
    "import seaborn as sns\n",
    "\n",
    "from transformers import pipeline"
   ]
  },
  {
   "cell_type": "code",
   "execution_count": 2,
   "id": "399c3556-cd51-4276-bd40-055efa7de562",
   "metadata": {},
   "outputs": [],
   "source": [
    "df = pd.read_csv('../datasets/main_revised.csv').drop(columns='Unnamed: 0')"
   ]
  },
  {
   "cell_type": "code",
   "execution_count": 3,
   "id": "09c82f6d-967a-4a55-8f6b-7e011e96bc68",
   "metadata": {},
   "outputs": [
    {
     "data": {
      "text/html": [
       "<div>\n",
       "<style scoped>\n",
       "    .dataframe tbody tr th:only-of-type {\n",
       "        vertical-align: middle;\n",
       "    }\n",
       "\n",
       "    .dataframe tbody tr th {\n",
       "        vertical-align: top;\n",
       "    }\n",
       "\n",
       "    .dataframe thead th {\n",
       "        text-align: right;\n",
       "    }\n",
       "</style>\n",
       "<table border=\"1\" class=\"dataframe\">\n",
       "  <thead>\n",
       "    <tr style=\"text-align: right;\">\n",
       "      <th></th>\n",
       "      <th>title</th>\n",
       "      <th>author</th>\n",
       "      <th>created_utc</th>\n",
       "      <th>selftext</th>\n",
       "      <th>subreddit</th>\n",
       "      <th>alltext</th>\n",
       "      <th>lowtext</th>\n",
       "      <th>unstopped</th>\n",
       "      <th>simp_lem</th>\n",
       "      <th>simp_stem</th>\n",
       "      <th>comp_lem</th>\n",
       "      <th>comp_stem</th>\n",
       "      <th>sent_label</th>\n",
       "      <th>sent_score</th>\n",
       "    </tr>\n",
       "  </thead>\n",
       "  <tbody>\n",
       "    <tr>\n",
       "      <th>0</th>\n",
       "      <td>What is the proper way to do the Liturgy of th...</td>\n",
       "      <td>markusmatthewhill</td>\n",
       "      <td>1626825422</td>\n",
       "      <td>I had started doing it today but I think I mes...</td>\n",
       "      <td>1</td>\n",
       "      <td>What is the proper way to do the Liturgy of th...</td>\n",
       "      <td>what is the proper way to do the liturgy of th...</td>\n",
       "      <td>proper way liturgy hours? started today think ...</td>\n",
       "      <td>proper way liturgy hour started today think me...</td>\n",
       "      <td>proper way liturgi hour start today think mess...</td>\n",
       "      <td>proper way liturgy hour ? started today think ...</td>\n",
       "      <td>proper way liturgi hour ? start today think me...</td>\n",
       "      <td>NEGATIVE</td>\n",
       "      <td>0.999163</td>\n",
       "    </tr>\n",
       "    <tr>\n",
       "      <th>1</th>\n",
       "      <td>Liturgical development - why does there not se...</td>\n",
       "      <td>pax_scandinavia</td>\n",
       "      <td>1626824841</td>\n",
       "      <td>What may be the reason for this? As it seems, ...</td>\n",
       "      <td>1</td>\n",
       "      <td>Liturgical development - why does there not se...</td>\n",
       "      <td>liturgical development - why does there not se...</td>\n",
       "      <td>liturgical development - seem crisis orthodox ...</td>\n",
       "      <td>liturgical development seem crisis orthodox ch...</td>\n",
       "      <td>liturg develop seem crisi orthodox church cath...</td>\n",
       "      <td>liturgical development - seem crisis orthodox ...</td>\n",
       "      <td>liturg develop - seem crisi orthodox church ca...</td>\n",
       "      <td>NEGATIVE</td>\n",
       "      <td>0.966623</td>\n",
       "    </tr>\n",
       "    <tr>\n",
       "      <th>2</th>\n",
       "      <td>Hello! I am an Eastern Orthodox thinking about...</td>\n",
       "      <td>makikopsy</td>\n",
       "      <td>1626824239</td>\n",
       "      <td>Could you explain the Mary’s Immaculate Concep...</td>\n",
       "      <td>1</td>\n",
       "      <td>Hello! I am an Eastern Orthodox thinking about...</td>\n",
       "      <td>hello! i am an eastern orthodox thinking about...</td>\n",
       "      <td>hello! eastern orthodox thinking converting ca...</td>\n",
       "      <td>hello eastern orthodox thinking converting cat...</td>\n",
       "      <td>hello eastern orthodox think convert catholic ...</td>\n",
       "      <td>hello ! eastern orthodox thinking converting c...</td>\n",
       "      <td>hello ! eastern orthodox think convert catholi...</td>\n",
       "      <td>NEGATIVE</td>\n",
       "      <td>0.931077</td>\n",
       "    </tr>\n",
       "    <tr>\n",
       "      <th>3</th>\n",
       "      <td>What is a good email sign off for Catholic ema...</td>\n",
       "      <td>osteo5511</td>\n",
       "      <td>1626823860</td>\n",
       "      <td>I am in the process of joining a Holy Order as...</td>\n",
       "      <td>1</td>\n",
       "      <td>What is a good email sign off for Catholic ema...</td>\n",
       "      <td>what is a good email sign off for catholic ema...</td>\n",
       "      <td>good email sign catholic emails? process joini...</td>\n",
       "      <td>good email sign catholic email process joining...</td>\n",
       "      <td>good email sign cathol email process join holi...</td>\n",
       "      <td>good email sign catholic email ? process joini...</td>\n",
       "      <td>good email sign cathol email ? process join ho...</td>\n",
       "      <td>POSITIVE</td>\n",
       "      <td>0.736149</td>\n",
       "    </tr>\n",
       "    <tr>\n",
       "      <th>4</th>\n",
       "      <td>Liturgical calendars of the eastern Catholic c...</td>\n",
       "      <td>ewheck</td>\n",
       "      <td>1626823264</td>\n",
       "      <td>Is there any place where you can view the litu...</td>\n",
       "      <td>1</td>\n",
       "      <td>Liturgical calendars of the eastern Catholic c...</td>\n",
       "      <td>liturgical calendars of the eastern catholic c...</td>\n",
       "      <td>liturgical calendars eastern catholic churches...</td>\n",
       "      <td>liturgical calendar eastern catholic church pl...</td>\n",
       "      <td>liturg calendar eastern cathol church place vi...</td>\n",
       "      <td>liturgical calendar eastern catholic church ? ...</td>\n",
       "      <td>liturg calendar eastern cathol church ? place ...</td>\n",
       "      <td>NEGATIVE</td>\n",
       "      <td>0.999368</td>\n",
       "    </tr>\n",
       "  </tbody>\n",
       "</table>\n",
       "</div>"
      ],
      "text/plain": [
       "                                               title             author  \\\n",
       "0  What is the proper way to do the Liturgy of th...  markusmatthewhill   \n",
       "1  Liturgical development - why does there not se...    pax_scandinavia   \n",
       "2  Hello! I am an Eastern Orthodox thinking about...          makikopsy   \n",
       "3  What is a good email sign off for Catholic ema...          osteo5511   \n",
       "4  Liturgical calendars of the eastern Catholic c...             ewheck   \n",
       "\n",
       "   created_utc                                           selftext  subreddit  \\\n",
       "0   1626825422  I had started doing it today but I think I mes...          1   \n",
       "1   1626824841  What may be the reason for this? As it seems, ...          1   \n",
       "2   1626824239  Could you explain the Mary’s Immaculate Concep...          1   \n",
       "3   1626823860  I am in the process of joining a Holy Order as...          1   \n",
       "4   1626823264  Is there any place where you can view the litu...          1   \n",
       "\n",
       "                                             alltext  \\\n",
       "0  What is the proper way to do the Liturgy of th...   \n",
       "1  Liturgical development - why does there not se...   \n",
       "2  Hello! I am an Eastern Orthodox thinking about...   \n",
       "3  What is a good email sign off for Catholic ema...   \n",
       "4  Liturgical calendars of the eastern Catholic c...   \n",
       "\n",
       "                                             lowtext  \\\n",
       "0  what is the proper way to do the liturgy of th...   \n",
       "1  liturgical development - why does there not se...   \n",
       "2  hello! i am an eastern orthodox thinking about...   \n",
       "3  what is a good email sign off for catholic ema...   \n",
       "4  liturgical calendars of the eastern catholic c...   \n",
       "\n",
       "                                           unstopped  \\\n",
       "0  proper way liturgy hours? started today think ...   \n",
       "1  liturgical development - seem crisis orthodox ...   \n",
       "2  hello! eastern orthodox thinking converting ca...   \n",
       "3  good email sign catholic emails? process joini...   \n",
       "4  liturgical calendars eastern catholic churches...   \n",
       "\n",
       "                                            simp_lem  \\\n",
       "0  proper way liturgy hour started today think me...   \n",
       "1  liturgical development seem crisis orthodox ch...   \n",
       "2  hello eastern orthodox thinking converting cat...   \n",
       "3  good email sign catholic email process joining...   \n",
       "4  liturgical calendar eastern catholic church pl...   \n",
       "\n",
       "                                           simp_stem  \\\n",
       "0  proper way liturgi hour start today think mess...   \n",
       "1  liturg develop seem crisi orthodox church cath...   \n",
       "2  hello eastern orthodox think convert catholic ...   \n",
       "3  good email sign cathol email process join holi...   \n",
       "4  liturg calendar eastern cathol church place vi...   \n",
       "\n",
       "                                            comp_lem  \\\n",
       "0  proper way liturgy hour ? started today think ...   \n",
       "1  liturgical development - seem crisis orthodox ...   \n",
       "2  hello ! eastern orthodox thinking converting c...   \n",
       "3  good email sign catholic email ? process joini...   \n",
       "4  liturgical calendar eastern catholic church ? ...   \n",
       "\n",
       "                                           comp_stem sent_label  sent_score  \n",
       "0  proper way liturgi hour ? start today think me...   NEGATIVE    0.999163  \n",
       "1  liturg develop - seem crisi orthodox church ca...   NEGATIVE    0.966623  \n",
       "2  hello ! eastern orthodox think convert catholi...   NEGATIVE    0.931077  \n",
       "3  good email sign cathol email ? process join ho...   POSITIVE    0.736149  \n",
       "4  liturg calendar eastern cathol church ? place ...   NEGATIVE    0.999368  "
      ]
     },
     "execution_count": 3,
     "metadata": {},
     "output_type": "execute_result"
    }
   ],
   "source": [
    "df.head()"
   ]
  },
  {
   "cell_type": "code",
   "execution_count": 4,
   "id": "c4593e2e-e7f5-4a1f-a592-bf07fac43462",
   "metadata": {},
   "outputs": [],
   "source": [
    "df['status_word_count'] = df['selftext'].map(lambda x: len(x.split()))\n",
    "df['status_length'] = df['selftext'].map(lambda x: len(x))"
   ]
  },
  {
   "cell_type": "code",
   "execution_count": 5,
   "id": "5f46610c-ed89-4468-ab42-3db5e5b94595",
   "metadata": {},
   "outputs": [
    {
     "data": {
      "text/plain": [
       "subreddit\n",
       "0    125.288928\n",
       "1    138.908472\n",
       "Name: status_word_count, dtype: float64"
      ]
     },
     "execution_count": 5,
     "metadata": {},
     "output_type": "execute_result"
    }
   ],
   "source": [
    "df.groupby('subreddit')['status_word_count'].mean()"
   ]
  },
  {
   "cell_type": "code",
   "execution_count": 6,
   "id": "fcb67a76-72cb-4eb3-b6fb-6a33d6525b6c",
   "metadata": {},
   "outputs": [
    {
     "data": {
      "text/plain": [
       "subreddit\n",
       "0    710.607635\n",
       "1    779.896594\n",
       "Name: status_length, dtype: float64"
      ]
     },
     "execution_count": 6,
     "metadata": {},
     "output_type": "execute_result"
    }
   ],
   "source": [
    "df.groupby('subreddit')['status_length'].mean()"
   ]
  },
  {
   "cell_type": "code",
   "execution_count": 7,
   "id": "543658ff-e4a2-45fa-bd0a-757ee1373de3",
   "metadata": {},
   "outputs": [],
   "source": [
    "df['title_word_count'] = df['title'].map(lambda x: len(x.split()))\n",
    "df['title_length'] = df['title'].map(lambda x: len(x))"
   ]
  },
  {
   "cell_type": "code",
   "execution_count": 8,
   "id": "42200215-3f2a-4f11-9726-74353c286263",
   "metadata": {},
   "outputs": [
    {
     "data": {
      "text/plain": [
       "subreddit\n",
       "0    7.971646\n",
       "1    8.984629\n",
       "Name: title_word_count, dtype: float64"
      ]
     },
     "execution_count": 8,
     "metadata": {},
     "output_type": "execute_result"
    }
   ],
   "source": [
    "df.groupby('subreddit')['title_word_count'].mean()"
   ]
  },
  {
   "cell_type": "code",
   "execution_count": 9,
   "id": "29b9b4d1-78dc-46bc-90ce-ae45a47d00cf",
   "metadata": {},
   "outputs": [
    {
     "data": {
      "text/plain": [
       "subreddit\n",
       "0    47.456201\n",
       "1    52.017118\n",
       "Name: title_length, dtype: float64"
      ]
     },
     "execution_count": 9,
     "metadata": {},
     "output_type": "execute_result"
    }
   ],
   "source": [
    "df.groupby('subreddit')['title_length'].mean()"
   ]
  },
  {
   "cell_type": "code",
   "execution_count": 10,
   "id": "5ac847df-0a04-4653-b7a0-b1dfe7fb432c",
   "metadata": {},
   "outputs": [
    {
     "name": "stderr",
     "output_type": "stream",
     "text": [
      "/Users/brianberry/opt/anaconda3/lib/python3.8/site-packages/seaborn/distributions.py:2557: FutureWarning: `distplot` is a deprecated function and will be removed in a future version. Please adapt your code to use either `displot` (a figure-level function with similar flexibility) or `histplot` (an axes-level function for histograms).\n",
      "  warnings.warn(msg, FutureWarning)\n"
     ]
    },
    {
     "data": {
      "image/png": "[encoded data removed]",
      "text/plain": [
       "<Figure size 432x288 with 1 Axes>"
      ]
     },
     "metadata": {
      "needs_background": "light"
     },
     "output_type": "display_data"
    }
   ],
   "source": [
    "ax = sns.distplot(df.query('subreddit == 1')['status_word_count'], bins=80)\n",
    "ax.set_xlim(0, 1000);"
   ]
  },
  {
   "cell_type": "code",
   "execution_count": 11,
   "id": "ca49a22e-5f52-4f40-abc5-bfd705b7a91b",
   "metadata": {},
   "outputs": [
    {
     "name": "stderr",
     "output_type": "stream",
     "text": [
      "/Users/brianberry/opt/anaconda3/lib/python3.8/site-packages/seaborn/distributions.py:2557: FutureWarning: `distplot` is a deprecated function and will be removed in a future version. Please adapt your code to use either `displot` (a figure-level function with similar flexibility) or `histplot` (an axes-level function for histograms).\n",
      "  warnings.warn(msg, FutureWarning)\n"
     ]
    },
    {
     "data": {
      "image/png": "[encoded data removed]",
      "text/plain": [
       "<Figure size 432x288 with 1 Axes>"
      ]
     },
     "metadata": {
      "needs_background": "light"
     },
     "output_type": "display_data"
    }
   ],
   "source": [
    "ax = sns.distplot(df.query('subreddit == 0')['status_word_count'], bins=80)\n",
    "ax.set_xlim(0, 1000);"
   ]
  },
  {
   "cell_type": "code",
   "execution_count": 12,
   "id": "9513426f-190f-48cc-a711-1a6afd7516d5",
   "metadata": {},
   "outputs": [
    {
     "name": "stderr",
     "output_type": "stream",
     "text": [
      "/Users/brianberry/opt/anaconda3/lib/python3.8/site-packages/seaborn/distributions.py:2557: FutureWarning: `distplot` is a deprecated function and will be removed in a future version. Please adapt your code to use either `displot` (a figure-level function with similar flexibility) or `histplot` (an axes-level function for histograms).\n",
      "  warnings.warn(msg, FutureWarning)\n"
     ]
    },
    {
     "data": {
      "image/png": "[encoded data removed]",
      "text/plain": [
       "<Figure size 432x288 with 1 Axes>"
      ]
     },
     "metadata": {
      "needs_background": "light"
     },
     "output_type": "display_data"
    }
   ],
   "source": [
    "ax = sns.distplot(df.query('subreddit == 1')['status_length'], bins=300)\n",
    "ax.set_xlim(0, 1000);"
   ]
  },
  {
   "cell_type": "code",
   "execution_count": 13,
   "id": "62972aad-f165-4e93-b925-e0ccdecd0859",
   "metadata": {},
   "outputs": [
    {
     "name": "stderr",
     "output_type": "stream",
     "text": [
      "/Users/brianberry/opt/anaconda3/lib/python3.8/site-packages/seaborn/distributions.py:2557: FutureWarning: `distplot` is a deprecated function and will be removed in a future version. Please adapt your code to use either `displot` (a figure-level function with similar flexibility) or `histplot` (an axes-level function for histograms).\n",
      "  warnings.warn(msg, FutureWarning)\n"
     ]
    },
    {
     "data": {
      "image/png": "[encoded data removed]",
      "text/plain": [
       "<Figure size 432x288 with 1 Axes>"
      ]
     },
     "metadata": {
      "needs_background": "light"
     },
     "output_type": "display_data"
    }
   ],
   "source": [
    "ax = sns.distplot(df.query('subreddit == 0')['status_length'], bins=300)\n",
    "ax.set_xlim(0, 1000);"
   ]
  },
  {
   "cell_type": "code",
   "execution_count": 14,
   "id": "d2ac1fd9-32c0-4999-a86e-d6482e53c239",
   "metadata": {},
   "outputs": [
    {
     "name": "stdout",
     "output_type": "stream",
     "text": [
      "Catholicism: catholic -  0.9603493449781659\n",
      "Orthodoxy: catholic -  0.3610011088230635\n"
     ]
    }
   ],
   "source": [
    "print('Catholicism: catholic - ', df.query('subreddit == 1')['lowtext'].str.count('catholic').mean())\n",
    "print('Orthodoxy: catholic - ',df.query('subreddit == 0')['lowtext'].str.count('catholic').mean())"
   ]
  },
  {
   "cell_type": "code",
   "execution_count": 15,
   "id": "390a83d5-a351-410a-81f5-a502bbb8ec34",
   "metadata": {},
   "outputs": [
    {
     "name": "stdout",
     "output_type": "stream",
     "text": [
      "Catholicism: orthodox -  0.06061135371179039\n",
      "Orthodoxy: orthodox -  1.2200221764612704\n"
     ]
    }
   ],
   "source": [
    "print('Catholicism: orthodox - ', df.query('subreddit == 1')['lowtext'].str.count('orthodox').mean())\n",
    "print('Orthodoxy: orthodox - ', df.query('subreddit == 0')['lowtext'].str.count('orthodox').mean())"
   ]
  },
  {
   "cell_type": "code",
   "execution_count": 16,
   "id": "d1c16852-e653-45c8-abc3-0dadc4991f0c",
   "metadata": {},
   "outputs": [
    {
     "name": "stdout",
     "output_type": "stream",
     "text": [
      "Catholicism: schism -  0.010655021834061135\n",
      "Orthodoxy: schism -  0.03152225566291779\n"
     ]
    }
   ],
   "source": [
    "print('Catholicism: schism - ', df.query('subreddit == 1')['lowtext'].str.count('schism').mean())\n",
    "print('Orthodoxy: schism - ', df.query('subreddit == 0')['lowtext'].str.count('schism').mean())"
   ]
  },
  {
   "cell_type": "code",
   "execution_count": 17,
   "id": "e68556c4-9e1f-4919-87c1-521b35854156",
   "metadata": {},
   "outputs": [
    {
     "name": "stdout",
     "output_type": "stream",
     "text": [
      "Catholicism: immaculate conception -  0.004366812227074236\n",
      "Catholicism: immaculate conception -  0.003643275780136227\n"
     ]
    }
   ],
   "source": [
    "print('Catholicism: immaculate conception - ', df.query('subreddit == 1')['lowtext'].str.count('immaculate conception').mean())\n",
    "print('Catholicism: immaculate conception - ', df.query('subreddit == 0')['lowtext'].str.count('immaculate conception').mean())"
   ]
  },
  {
   "cell_type": "code",
   "execution_count": 18,
   "id": "229891b5-0222-44d0-b93c-9cf6886be743",
   "metadata": {},
   "outputs": [
    {
     "name": "stdout",
     "output_type": "stream",
     "text": [
      "Catholicism: transubstantiation -  0.0027947598253275107\n",
      "Orthodoxy: transubstantiation -  0.0\n"
     ]
    }
   ],
   "source": [
    "print('Catholicism: transubstantiation - ', df.query('subreddit == 1')['lowtext'].str.count('transubstantiation').mean())\n",
    "print('Orthodoxy: transubstantiation - ', df.query('subreddit == 0')['lowtext'].str.count('transubstantiation').mean())"
   ]
  },
  {
   "cell_type": "code",
   "execution_count": 19,
   "id": "5778ba05-84b9-4310-981e-9752139e679a",
   "metadata": {},
   "outputs": [
    {
     "name": "stdout",
     "output_type": "stream",
     "text": [
      "Catholicism: mother of god -  0.0038427947598253277\n",
      "Orthodoxy: mother of god -  0.005702518612387138\n",
      "Catholicism: theotokos -  0.0006986899563318777\n",
      "Orthodoxy: theotokos -  0.02059242832250911\n"
     ]
    }
   ],
   "source": [
    "print('Catholicism: mother of god - ', df.query('subreddit == 1')['lowtext'].str.count('mother of god').mean())\n",
    "print('Orthodoxy: mother of god - ', df.query('subreddit == 0')['lowtext'].str.count('mother of god').mean())\n",
    "print('Catholicism: theotokos - ', df.query('subreddit == 1')['lowtext'].str.count('theotokos').mean())\n",
    "print('Orthodoxy: theotokos - ', df.query('subreddit == 0')['lowtext'].str.count('theotokos').mean())"
   ]
  },
  {
   "cell_type": "code",
   "execution_count": 20,
   "id": "0a8309ba-03a0-4d8a-9c02-901bf40fd755",
   "metadata": {},
   "outputs": [
    {
     "name": "stdout",
     "output_type": "stream",
     "text": [
      "Catholicism: theosis -  0.0006986899563318777\n",
      "Orthodoxy: theosis -  0.009504197687311896\n",
      "Catholicism: heaven -  0.0840174672489083\n",
      "Orthodoxy: heaven -  0.06779661016949153\n"
     ]
    }
   ],
   "source": [
    "print('Catholicism: theosis - ', df.query('subreddit == 1')['lowtext'].str.count('theosis').mean())\n",
    "print('Orthodoxy: theosis - ', df.query('subreddit == 0')['lowtext'].str.count('theosis').mean())\n",
    "print('Catholicism: heaven - ', df.query('subreddit == 1')['lowtext'].str.count('heaven').mean())\n",
    "print('Orthodoxy: heaven - ', df.query('subreddit == 0')['lowtext'].str.count('heaven').mean())"
   ]
  },
  {
   "cell_type": "code",
   "execution_count": 21,
   "id": "db716791-f35f-41e1-af36-b6d9e284dc48",
   "metadata": {},
   "outputs": [
    {
     "name": "stdout",
     "output_type": "stream",
     "text": [
      "Catholicism: purgatory -  0.02131004366812227\n",
      "Orthodoxy: purgatory -  0.009979407571677491\n",
      "Catholicism: sanctification -  0.0013973799126637554\n",
      "Orthodoxy: sanctification -  0.002692856011405037\n"
     ]
    }
   ],
   "source": [
    "print('Catholicism: purgatory - ', df.query('subreddit == 1')['lowtext'].str.count('purgatory').mean())\n",
    "print('Orthodoxy: purgatory - ',df.query('subreddit == 0')['lowtext'].str.count('purgatory').mean())\n",
    "print('Catholicism: sanctification - ', df.query('subreddit == 1')['lowtext'].str.count('sanctification').mean())\n",
    "print('Orthodoxy: sanctification - ', df.query('subreddit == 0')['lowtext'].str.count('sanctification').mean())"
   ]
  },
  {
   "cell_type": "code",
   "execution_count": 22,
   "id": "e880b3e4-aaeb-4750-9ada-9fd1fd297d5f",
   "metadata": {},
   "outputs": [
    {
     "name": "stdout",
     "output_type": "stream",
     "text": [
      "Catholicism: constantinople -  0.002445414847161572\n",
      "Orthodoxy: constantinople -  0.01774116901631554\n",
      "Catholicism: vatican -  0.04209606986899563\n",
      "Orthodoxy: vatican -  0.012197053698716933\n",
      "Catholicism: lourdes -  0.00034934497816593884\n",
      "Orthodoxy: lourdes -  0.0004752098843655948\n"
     ]
    }
   ],
   "source": [
    "print('Catholicism: constantinople - ', df.query('subreddit == 1')['lowtext'].str.count('constantinople').mean())\n",
    "print('Orthodoxy: constantinople - ', df.query('subreddit == 0')['lowtext'].str.count('constantinople').mean())\n",
    "print('Catholicism: vatican - ', df.query('subreddit == 1')['lowtext'].str.count('vatican').mean())\n",
    "print('Orthodoxy: vatican - ', df.query('subreddit == 0')['lowtext'].str.count('vatican').mean())\n",
    "print('Catholicism: lourdes - ', df.query('subreddit == 1')['lowtext'].str.count('lourdes').mean())\n",
    "print('Orthodoxy: lourdes - ', df.query('subreddit == 0')['lowtext'].str.count('lourdes').mean())"
   ]
  },
  {
   "cell_type": "code",
   "execution_count": 23,
   "id": "566ae010-71d8-43ad-baa7-1374ffa7d6db",
   "metadata": {},
   "outputs": [
    {
     "name": "stdout",
     "output_type": "stream",
     "text": [
      "Catholicism: pope francis -  0.02148471615720524\n",
      "Orthodoxy: pope francis -  0.002851259306193569\n"
     ]
    }
   ],
   "source": [
    "print('Catholicism: pope francis - ', df.query('subreddit == 1')['lowtext'].str.count('pope francis').mean())\n",
    "print('Orthodoxy: pope francis - ', df.query('subreddit == 0')['lowtext'].str.count('pope francis').mean())"
   ]
  },
  {
   "cell_type": "code",
   "execution_count": 24,
   "id": "dca578a9-86e3-41d7-afbf-787a135141a2",
   "metadata": {},
   "outputs": [
    {
     "name": "stdout",
     "output_type": "stream",
     "text": [
      "Catholicism: augustine -  0.008034934497816594\n",
      "Orthodoxy: augustine -  0.010137810866466023\n",
      "Catholicism: aquinas -  0.01572052401746725\n",
      "Orthodoxy: aquinas -  0.003643275780136227\n",
      "Catholicism: gregory of nyssa -  0.0005240174672489083\n",
      "Orthodoxy: gregory of nyssa -  0.0020592428322509107\n",
      "Catholicism: maximus the confessor -  0.0005240174672489083\n",
      "Orthodoxy: maximus the confessor -  0.0011088230635197213\n"
     ]
    }
   ],
   "source": [
    "print('Catholicism: augustine - ', df.query('subreddit == 1')['lowtext'].str.count('augustine').mean())\n",
    "print('Orthodoxy: augustine - ', df.query('subreddit == 0')['lowtext'].str.count('augustine').mean())\n",
    "print('Catholicism: aquinas - ', df.query('subreddit == 1')['lowtext'].str.count('aquinas').mean())\n",
    "print('Orthodoxy: aquinas - ', df.query('subreddit == 0')['lowtext'].str.count('aquinas').mean())\n",
    "print('Catholicism: gregory of nyssa - ', df.query('subreddit == 1')['lowtext'].str.count('gregory of nyssa').mean())\n",
    "print('Orthodoxy: gregory of nyssa - ', df.query('subreddit == 0')['lowtext'].str.count('gregory of nyssa').mean())\n",
    "print('Catholicism: maximus the confessor - ', df.query('subreddit == 1')['lowtext'].str.count('maximus the confessor').mean())\n",
    "print('Orthodoxy: maximus the confessor - ', df.query('subreddit == 0')['lowtext'].str.count('maximus the confessor').mean())"
   ]
  },
  {
   "cell_type": "code",
   "execution_count": 25,
   "id": "2d29d925-96d4-4c1a-8821-34c1c0602d05",
   "metadata": {},
   "outputs": [],
   "source": [
    "df['sent_label'] = df['sent_label'].map({'NEGATIVE' : -1, 'POSITIVE' : 1})\n",
    "df['sent_inter'] = df['sent_label'] * df['sent_score']"
   ]
  },
  {
   "cell_type": "code",
   "execution_count": 26,
   "id": "4a93390d-2280-4b0e-a8ee-f515b98b5435",
   "metadata": {},
   "outputs": [
    {
     "data": {
      "text/plain": [
       "(-0.40208488458674607, -0.3453573814295257)"
      ]
     },
     "execution_count": 26,
     "metadata": {},
     "output_type": "execute_result"
    }
   ],
   "source": [
    "df.query('subreddit == 1')['sent_label'].mean(), df.query('subreddit == 0')['sent_label'].mean()"
   ]
  },
  {
   "cell_type": "code",
   "execution_count": 27,
   "id": "374906e9-b76e-4eae-b98e-158af36aecb9",
   "metadata": {},
   "outputs": [
    {
     "data": {
      "text/plain": [
       "(-0.39683370960131564, -0.34223719849017914)"
      ]
     },
     "execution_count": 27,
     "metadata": {},
     "output_type": "execute_result"
    }
   ],
   "source": [
    "df.query('subreddit == 1')['sent_inter'].mean(), df.query('subreddit == 0')['sent_inter'].mean()"
   ]
  },
  {
   "cell_type": "code",
   "execution_count": 28,
   "id": "0adc396c-5185-4cff-a958-4a764fde4227",
   "metadata": {},
   "outputs": [
    {
     "name": "stdout",
     "output_type": "stream",
     "text": [
      "Catholic sentiment label: pope francis -  -0.49295774647887325\n",
      "Orthodox sentiment label: pope francis -  0.14285714285714285\n",
      "Catholic sentiment adjusted: pope francis -  -0.48423389229975955\n",
      "Orthodox sentiment adjusted: pope francis -  0.022356671946389333\n"
     ]
    }
   ],
   "source": [
    "print('Catholic sentiment label: pope francis - ', df[df['lowtext'].str.contains('pope francis')].query('subreddit == 1')['sent_label'].mean())\n",
    "print('Orthodox sentiment label: pope francis - ', df[df['lowtext'].str.contains('pope francis')].query('subreddit == 0')['sent_label'].mean())\n",
    "print('Catholic sentiment adjusted: pope francis - ', df[df['lowtext'].str.contains('pope francis')].query('subreddit == 1')['sent_inter'].mean())\n",
    "print('Orthodox sentiment adjusted: pope francis - ', df[df['lowtext'].str.contains('pope francis')].query('subreddit == 0')['sent_inter'].mean())"
   ]
  },
  {
   "cell_type": "code",
   "execution_count": 29,
   "id": "924d52e4-279d-46f1-a17c-11fcd37c9084",
   "metadata": {},
   "outputs": [
    {
     "name": "stdout",
     "output_type": "stream",
     "text": [
      "Catholic sentiment label: mother of god -  0.3333333333333333\n",
      "Orthodox sentiment label: mother of god -  -0.42857142857142855\n",
      "Catholic sentiment adjusted: mother of god -  0.33001722892125446\n",
      "Orthodox sentiment adjusted: mother of god -  -0.4296724796295166\n"
     ]
    }
   ],
   "source": [
    "print('Catholic sentiment label: mother of god - ', df[df['lowtext'].str.contains('mother of god')].query('subreddit == 1')['sent_label'].mean())\n",
    "print('Orthodox sentiment label: mother of god - ', df[df['lowtext'].str.contains('mother of god')].query('subreddit == 0')['sent_label'].mean())\n",
    "print('Catholic sentiment adjusted: mother of god - ', df[df['lowtext'].str.contains('mother of god')].query('subreddit == 1')['sent_inter'].mean())\n",
    "print('Orthodox sentiment adjusted: mother of god - ', df[df['lowtext'].str.contains('mother of god')].query('subreddit == 0')['sent_inter'].mean())"
   ]
  },
  {
   "cell_type": "code",
   "execution_count": 30,
   "id": "e722386c-cdb1-4795-97a2-25ff6fbdc211",
   "metadata": {},
   "outputs": [
    {
     "name": "stdout",
     "output_type": "stream",
     "text": [
      "Catholic sentiment label: theotokos -  0.3333333333333333\n",
      "Orthodox sentiment label: theotokos -  -0.24675324675324675\n",
      "Catholic sentiment adjusted: theotokos -  0.21861809492111203\n",
      "Orthodox sentiment adjusted: theotokos -  -0.2537723895791289\n"
     ]
    }
   ],
   "source": [
    "print('Catholic sentiment label: theotokos - ', df[df['lowtext'].str.contains('theotokos')].query('subreddit == 1')['sent_label'].mean())\n",
    "print('Orthodox sentiment label: theotokos - ', df[df['lowtext'].str.contains('theotokos')].query('subreddit == 0')['sent_label'].mean())\n",
    "print('Catholic sentiment adjusted: theotokos - ', df[df['lowtext'].str.contains('theotokos')].query('subreddit == 1')['sent_inter'].mean())\n",
    "print('Orthodox sentiment adjusted: theotokos - ', df[df['lowtext'].str.contains('theotokos')].query('subreddit == 0')['sent_inter'].mean())"
   ]
  },
  {
   "cell_type": "code",
   "execution_count": 31,
   "id": "795c9805-4e1e-4a06-b35c-23683f167066",
   "metadata": {},
   "outputs": [],
   "source": [
    "df.to_csv('../datasets/main_final.csv')"
   ]
  }
 ],
 "metadata": {
  "kernelspec": {
   "display_name": "Python 3",
   "language": "python",
   "name": "python3"
  },
  "language_info": {
   "codemirror_mode": {
    "name": "ipython",
    "version": 3
   },
   "file_extension": ".py",
   "mimetype": "text/x-python",
   "name": "python",
   "nbconvert_exporter": "python",
   "pygments_lexer": "ipython3",
   "version": "3.8.8"
  }
 },
 "nbformat": 4,
 "nbformat_minor": 5
}
