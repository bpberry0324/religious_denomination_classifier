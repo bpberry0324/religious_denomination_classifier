{
 "cells": [
  {
   "cell_type": "markdown",
   "id": "2cee95ab-4d65-491e-80ea-45bcd34e1ef7",
   "metadata": {
    "tags": []
   },
   "source": [
    "## Initial Data Collection"
   ]
  },
  {
   "cell_type": "code",
   "execution_count": 1,
   "id": "c34c9992-11ef-4aa9-8088-18e1767f48b6",
   "metadata": {
    "tags": []
   },
   "outputs": [],
   "source": [
    "import requests\n",
    "import pandas as pd\n",
    "import time\n",
    "import datetime as dt"
   ]
  },
  {
   "cell_type": "code",
   "execution_count": 2,
   "id": "baf5033b-f260-4e04-b65e-8fe685f5615b",
   "metadata": {},
   "outputs": [],
   "source": [
    "def reddit_scrape(subreddit):\n",
    "    s_type = 'submission'\n",
    "    unix_time_stamp = 1626825653\n",
    "    \n",
    "    url = f'https://api.pushshift.io/reddit/search/{s_type}/?subreddit={subreddit}&before={unix_time_stamp}&size=100'\n",
    "    \n",
    "    time.sleep(5)\n",
    "    res = requests.get(url)\n",
    "    post_list = res.json()['data']\n",
    "    full_df = pd.DataFrame(post_list)[['title', 'author', 'created_utc', 'selftext', 'subreddit' ]]\n",
    "    print(1)\n",
    "    \n",
    "    for n in range(1, 50):\n",
    "        uts = full_df['created_utc'].min()\n",
    "        url = f'https://api.pushshift.io/reddit/search/{s_type}/?subreddit={subreddit}&before={uts}&size=100'\n",
    "\n",
    "        time.sleep(5)\n",
    "        res = requests.get(url)\n",
    "\n",
    "        post_list = res.json()['data']\n",
    "        temp_df = pd.DataFrame(post_list)[['title', 'author', 'created_utc', 'selftext', 'subreddit' ]]\n",
    "\n",
    "        full_df = pd.concat([full_df, temp_df])\n",
    "        \n",
    "        print(n+1)\n",
    "        \n",
    "    full_df.to_csv('../datasets/' + subreddit + '.csv', index = False)"
   ]
  },
  {
   "cell_type": "code",
   "execution_count": 5,
   "id": "ede27358-8fb8-4506-a258-86b9286da67f",
   "metadata": {},
   "outputs": [
    {
     "name": "stdout",
     "output_type": "stream",
     "text": [
      "1\n",
      "2\n",
      "3\n",
      "4\n",
      "5\n",
      "6\n",
      "7\n",
      "8\n",
      "9\n",
      "10\n",
      "11\n",
      "12\n",
      "13\n",
      "14\n",
      "15\n",
      "16\n",
      "17\n",
      "18\n",
      "19\n",
      "20\n",
      "21\n",
      "22\n",
      "23\n",
      "24\n",
      "25\n",
      "26\n",
      "27\n",
      "28\n",
      "29\n",
      "30\n",
      "31\n",
      "32\n",
      "33\n",
      "34\n",
      "35\n",
      "36\n",
      "37\n",
      "38\n",
      "39\n",
      "40\n",
      "41\n",
      "42\n",
      "43\n",
      "44\n",
      "45\n",
      "46\n",
      "47\n",
      "48\n",
      "49\n",
      "50\n"
     ]
    }
   ],
   "source": [
    "reddit_scrape('Catholicism')"
   ]
  },
  {
   "cell_type": "code",
   "execution_count": 8,
   "id": "dde9ddc1-6e43-49a1-9682-60283a91c08a",
   "metadata": {},
   "outputs": [
    {
     "name": "stdout",
     "output_type": "stream",
     "text": [
      "1\n",
      "2\n",
      "3\n",
      "4\n",
      "5\n",
      "6\n",
      "7\n",
      "8\n",
      "9\n",
      "10\n",
      "11\n",
      "12\n",
      "13\n",
      "14\n",
      "15\n",
      "16\n",
      "17\n",
      "18\n",
      "19\n",
      "20\n",
      "21\n",
      "22\n",
      "23\n",
      "24\n",
      "25\n",
      "26\n",
      "27\n",
      "28\n",
      "29\n",
      "30\n",
      "31\n",
      "32\n",
      "33\n",
      "34\n",
      "35\n",
      "36\n",
      "37\n",
      "38\n",
      "39\n",
      "40\n",
      "41\n",
      "42\n",
      "43\n",
      "44\n",
      "45\n",
      "46\n",
      "47\n",
      "48\n",
      "49\n",
      "50\n"
     ]
    }
   ],
   "source": [
    "reddit_scrape('OrthodoxChristianity')"
   ]
  },
  {
   "cell_type": "code",
   "execution_count": null,
   "id": "2458115d-7b7e-4a13-a53c-a2edc20a4aa5",
   "metadata": {},
   "outputs": [],
   "source": []
  }
 ],
 "metadata": {
  "kernelspec": {
   "display_name": "Python 3",
   "language": "python",
   "name": "python3"
  },
  "language_info": {
   "codemirror_mode": {
    "name": "ipython",
    "version": 3
   },
   "file_extension": ".py",
   "mimetype": "text/x-python",
   "name": "python",
   "nbconvert_exporter": "python",
   "pygments_lexer": "ipython3",
   "version": "3.8.8"
  }
 },
 "nbformat": 4,
 "nbformat_minor": 5
}
