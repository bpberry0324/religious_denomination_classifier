{
 "cells": [
  {
   "cell_type": "markdown",
   "id": "73b0f227-37fb-4ca8-bfb1-8fab2ff730d6",
   "metadata": {},
   "source": [
    "# On Catholicism, Eastern Orthodoxy, and Reddit.com"
   ]
  },
  {
   "cell_type": "markdown",
   "id": "a37d5c5c-b403-4655-8bef-3e63293a1e41",
   "metadata": {},
   "source": [
    "This survey evaluates the potential for predictively modeling the subreddits of two religious traditions (presently divided by schism but united by an older shared history) in comparison to one another, then examines the implications and further possibilities of these findings."
   ]
  },
  {
   "cell_type": "markdown",
   "id": "b7784a99-fef0-4f19-b84d-0bd3f816ff27",
   "metadata": {},
   "source": [
    "### Table of Contents:\n",
    "\n",
    "- Part I: Introduction\n",
    "- Part II: Preprocessing Summary\n",
    "- Part III: EDA Summary\n",
    "- Part IV: Predictive Models and Relevant Findings\n",
    "- Part V: Conclusion"
   ]
  },
  {
   "cell_type": "markdown",
   "id": "45f75992-3fd0-4476-b67e-910ecf9ead79",
   "metadata": {},
   "source": [
    "## Part I: Introduction"
   ]
  },
  {
   "cell_type": "markdown",
   "id": "ead52538-b7ab-4913-8901-c4cd05e26875",
   "metadata": {},
   "source": [
    "The Eastern and Western Churches, sharing many of the same traditions, beliefs, and doctrines, are--as the result of a nine-century schism--currently not in communion with one another. Thus, with all that they have in common, a great deal of time has passed, and they have diverged from one another in noticeable ways, from their respective understandings of authority and dogma, to more workaday things like fasting practices and Eucharistic formalities.\n",
    "\n",
    "So just how much do they differ in their concerns and ways of communicating? (Or, how alike are they still?) In its own way, this project seeks to explore this question by way of statistical modeling, and to determine what details the modeling process might unearth. Additionally then, it touches on deeper questions: If machine learning can detect measures of separation between two conjoined religious traditions, could it also detect shifts within a single tradition as they take place in realtime? Could such models pick up on the diverging of preoccupations of different subgroups and tell us something about their cause? Can we predict the formation of reactionary movements and their subsequent impact on the larger tradition?\n",
    "\n",
    "During the course of the project, many models were employed in relation to multiple forms of the text data available to optimize their accuracy in predicting the source of each post. Ultimately, two of these (a random forest model and a logistic regression model), were chosen as the strongest. More details on the findings below."
   ]
  },
  {
   "cell_type": "markdown",
   "id": "3570db5c-6456-4a88-a89c-5cf2be9e8e66",
   "metadata": {},
   "source": [
    "## Part II: Preprocessing Summary"
   ]
  },
  {
   "cell_type": "markdown",
   "id": "25552a9f-0ad8-4390-a288-d2a8ac69fdec",
   "metadata": {},
   "source": [
    "The steps taken during preprocessing are recorded in greater detail in the `preprocessing` folder. The initial step involved scraping upwards of 5,000 posts for each subreddit and storing them in the `datasets` folder. To avoid allowing any server issues from making an already time-intensive project even more so, data from each subreddit was collected in two batches--see `preprocessing/01-collection.ipynb` and `02-collection-continued.ipynb`)--and combined into a single dataset from which to begin cleaning (`03-cleaning.ipynb`). This imvolved parsing the text data and applying various means to normalize it (`lower()`, etc.)\n",
    "\n",
    "Finally the combined text of the title and post body for each entry was preprocessed in four different ways, and these four versions were all added to the main dataframe to be modeled separately for optimal results. For the record, they are as follows:\n",
    "\n",
    "- the words of the combined title and post body, lemmatized\n",
    "- the words of the combined title and post body, stemmed\n",
    "- the words and potentially significant numbers of the combined title and post body, lemmatized\n",
    "- the words and potentially significant numbers of the combined title and post body, stemmed"
   ]
  },
  {
   "cell_type": "markdown",
   "id": "0428f45c-fffa-4c4f-8e40-898e38a499a8",
   "metadata": {},
   "source": [
    "## Part III: Preprocessing Summary"
   ]
  },
  {
   "cell_type": "markdown",
   "id": "ac15daca-cfef-4d1b-a8e0-bcac94eacb75",
   "metadata": {},
   "source": [
    "As with preprocessing, more thorough treatment of the exploratory steps taken is included in the `preprocessing` folder. Some feature engineering allowed for the exploration of sentiment analysis in relation to various relevant phrases (`04-features.ipynb`), but it was difficult to interpret the results or their implications.\n",
    "\n",
    "Additional exploratory analysis was done in relation to the frequency of certain phrases, and how this differed across subreddits depending on the phrase in question. The results were roughly what might be expected. The subreddit dedicated to Catholicism seemed to let more of their focus be occupied by locations and figures that have taken on more significance for the Western Church since the Great Schism (Lourdes, Pope Francis, Saint Thomas Aquinas, etc.), while Orthodoxy's subreddit saw more mentions of the Greek Fathers of the East (Saint Gregory of Nyssa, Maximus the Confessor, etc.) Occasionally, an idea or figure was shown to receive more mentions when adjusting for linguistic nuances of this or that tradition. That is, some ideas seem to be mentioned less often in the Orthodoxy subreddit until its Americanized phrase is replaced by the Greek one.\n",
    "\n",
    "All of this is recounted (with visuals) in `05-eda.ipynb`. At the end of this notebook, the final dataset used for the modeling process (`main_final.csv`) is exported to the `datasets` folder."
   ]
  },
  {
   "cell_type": "markdown",
   "id": "f2dc9bb5-7890-4703-b658-c7c7b3e07ca9",
   "metadata": {},
   "source": [
    "## Part IV: Predictive Models and Relevant Findings"
   ]
  },
  {
   "cell_type": "markdown",
   "id": "47e87e15-47d4-4314-a277-98effb3e85fc",
   "metadata": {},
   "source": [
    "The modeling process for this project was extremely involved and time-intensive. For each of the four versions of the combined text data, the following models were trained:\n",
    "\n",
    "- Logistic Regression\n",
    "- Bagging\n",
    "- AdaBoost\n",
    "- Random Forest\n",
    "\n",
    "For greater detail, the following notebooks are available in the `modeling` folder:\n",
    "\n",
    "- `01-wds-dgts-lem.ipynb`\n",
    "- `02-wds-lem.ipynb`\n",
    "- `03-wds-dgts-stem.ipynb`\n",
    "- `04-wds-stem.ipynb`\n",
    "\n",
    "The names of these notebooks reflect the versions of the text being modeled. All models performed well above the baseline, scoring consistently above 80%. Also consistently, logistic regression and random forest models performed better than others, with logistic regression being most accurate of all.\n",
    "\n",
    "A note on the final models below: Both models, even at the time of the deadline for this project are beset by some overfitting that further fine-tuning might remedy. Likewise, additional steps might be taken in adjusting the features included post-vectorization to help the training, cross-validation, and test scores converge. Such changes might even improve the final model's accuracy. Still, despite this overfit, the training and test scores for these two models are still the highest of any models trained in this process, and again, substantially higher than the baseline."
   ]
  },
  {
   "cell_type": "code",
   "execution_count": 15,
   "id": "61a9cbdc-7e22-4e9f-ae64-c43c99244f85",
   "metadata": {},
   "outputs": [],
   "source": [
    "import pandas as pd\n",
    "import numpy as np\n",
    "import matplotlib.pyplot as plt\n",
    "import seaborn as sns\n",
    "from sklearn.metrics import confusion_matrix,ConfusionMatrixDisplay\n",
    "from sklearn.metrics import accuracy_score"
   ]
  },
  {
   "cell_type": "markdown",
   "id": "85ebb71b-fee8-4bc6-8e63-62323b3fadb2",
   "metadata": {},
   "source": [
    "First, the baseline score below. As we can see, just about a coin flip."
   ]
  },
  {
   "cell_type": "code",
   "execution_count": 20,
   "id": "c23938a4-51b3-4aa3-84cb-99e493634516",
   "metadata": {
    "tags": []
   },
   "outputs": [],
   "source": [
    "df = pd.read_csv('datasets/main_final.csv')"
   ]
  },
  {
   "cell_type": "code",
   "execution_count": 21,
   "id": "60622586-33f9-465c-abb9-f110662ff529",
   "metadata": {
    "tags": []
   },
   "outputs": [
    {
     "data": {
      "text/plain": [
       "0    0.524423\n",
       "1    0.475577\n",
       "Name: subreddit, dtype: float64"
      ]
     },
     "execution_count": 21,
     "metadata": {},
     "output_type": "execute_result"
    }
   ],
   "source": [
    "df['subreddit'].value_counts(normalize = True)"
   ]
  },
  {
   "cell_type": "markdown",
   "id": "038b422f-1455-49c2-9454-d11f49b1246b",
   "metadata": {},
   "source": [
    "#### Final Model 1: Random Forest"
   ]
  },
  {
   "cell_type": "markdown",
   "id": "3da22b1d-4285-4ad4-9be3-1ee27fefdc0e",
   "metadata": {},
   "source": [
    "The best random forest model set its `n_estimators` to 250 and fit itself to the count-vectorized, stemmed, words-only version of the text data. \n",
    "\n",
    "Greater detail on this model, its findings, and its performance in comparison to other models can be found in the `randomforest.ipynb` file, itself in the `modeling` folder."
   ]
  },
  {
   "cell_type": "code",
   "execution_count": 9,
   "id": "45f7cec5-e466-4129-859f-943ff99585f6",
   "metadata": {},
   "outputs": [],
   "source": [
    "rf = pd.read_csv('datasets/randomforest.csv')"
   ]
  },
  {
   "cell_type": "code",
   "execution_count": 12,
   "id": "91250a7f-521c-4c5b-94fb-64730bd68ec3",
   "metadata": {},
   "outputs": [],
   "source": [
    "cm = confusion_matrix(rf['subreddit'], rf['predictions'])"
   ]
  },
  {
   "cell_type": "markdown",
   "id": "d20a257f-b6ed-4466-add4-46e20b62c4f4",
   "metadata": {},
   "source": [
    "Below, a brief output of the accuracy score and a confusion matrix to break down the results. Much higher than the baseline, and roughly similar in rate of guessing Catholicism and Orthodoxy correctly (and incorrectly). In the confusion matrix `1` represents the Catholicism subreddit and `0` represents the Orthodoxy subreddit."
   ]
  },
  {
   "cell_type": "code",
   "execution_count": 19,
   "id": "c509537b-e7e1-4ee8-a3b1-5ceb035d19e8",
   "metadata": {},
   "outputs": [
    {
     "data": {
      "text/plain": [
       "0.836"
      ]
     },
     "execution_count": 19,
     "metadata": {},
     "output_type": "execute_result"
    }
   ],
   "source": [
    "round(accuracy_score(rf['subreddit'], rf['predictions']), 3)"
   ]
  },
  {
   "cell_type": "code",
   "execution_count": 13,
   "id": "c539499d-0203-441c-852e-5bee37829443",
   "metadata": {},
   "outputs": [
    {
     "data": {
      "image/png": "[encoded data removed]",
      "text/plain": [
       "<Figure size 432x288 with 2 Axes>"
      ]
     },
     "metadata": {
      "needs_background": "light"
     },
     "output_type": "display_data"
    }
   ],
   "source": [
    "ConfusionMatrixDisplay(cm).plot();"
   ]
  },
  {
   "cell_type": "markdown",
   "id": "5710f413-b66e-4887-81ec-6ca3326f4e1d",
   "metadata": {},
   "source": [
    "This survey remains neutral on weighing the relevance of different types of correct classification and misclassification, so accuracy remains the sole arbiter of each model's success."
   ]
  },
  {
   "cell_type": "markdown",
   "id": "83c34ddd-f557-4194-98ea-525524301857",
   "metadata": {},
   "source": [
    "#### Final Model 2: Logistic Regression (BEST FIT)"
   ]
  },
  {
   "cell_type": "markdown",
   "id": "2c0212ee-46c9-4511-8fc0-0a504c8d3086",
   "metadata": {},
   "source": [
    "Logistic regression models performed better than the other alternatives throughout the course of this survey, and the best of these was a model fit to stemmed words and relevant digits, vectorized according to term-frequency. More details are available in the `logreg.ipynb` notebook in the `modeling` folder, but the best results came by increasing the C-value with an L2 penalty."
   ]
  },
  {
   "cell_type": "code",
   "execution_count": 22,
   "id": "7566f1b4-269f-481f-b488-6d135a84f79e",
   "metadata": {},
   "outputs": [],
   "source": [
    "lr = pd.read_csv('datasets/logreg.csv')"
   ]
  },
  {
   "cell_type": "code",
   "execution_count": 23,
   "id": "b08ebb3b-8c00-4ce8-a1a8-1113e6fe52d1",
   "metadata": {},
   "outputs": [],
   "source": [
    "cm = confusion_matrix(lr['subreddit'], lr['predictions'])"
   ]
  },
  {
   "cell_type": "markdown",
   "id": "b33edbf8-fd8f-4828-8a8a-88dfd5d7bdaf",
   "metadata": {},
   "source": [
    "Below, the final test score. It should be noted here (as is demonstrated in `logreg.ipynb` and `randomforest.ipynb`) that the cross-validation scores were much closer, as were the results throughout the duration of the survey. Logistic regression performed the best for each dataset, with random forests being a close second."
   ]
  },
  {
   "cell_type": "code",
   "execution_count": 25,
   "id": "e379d295-a1af-432d-a74c-051d2faa4b6d",
   "metadata": {},
   "outputs": [
    {
     "data": {
      "text/plain": [
       "0.855"
      ]
     },
     "execution_count": 25,
     "metadata": {},
     "output_type": "execute_result"
    }
   ],
   "source": [
    "round(accuracy_score(lr['subreddit'], lr['predictions']), 3)"
   ]
  },
  {
   "cell_type": "code",
   "execution_count": 26,
   "id": "cdb94dd6-a28b-46fa-9da3-9b29a5fab77f",
   "metadata": {},
   "outputs": [
    {
     "data": {
      "image/png": "[encoded data removed]",
      "text/plain": [
       "<Figure size 432x288 with 2 Axes>"
      ]
     },
     "metadata": {
      "needs_background": "light"
     },
     "output_type": "display_data"
    }
   ],
   "source": [
    "ConfusionMatrixDisplay(cm).plot();"
   ]
  },
  {
   "cell_type": "markdown",
   "id": "e28e6d5d-e6ae-4bc2-b6de-d117b6d37aed",
   "metadata": {},
   "source": [
    "Like the final random forest model, this logistic regression model suffers from a readily apparent overfit at the time of the project deadline. Further alterations to the datasets in question and to the hyper parameters might narrow the training/test data gap.\n",
    "\n",
    "Still, the modeling process was an overall success, with not a single model failing to outperform the baseline."
   ]
  },
  {
   "cell_type": "markdown",
   "id": "7f9eb9da-cd26-4c4e-9528-5f5e1c78cbd8",
   "metadata": {},
   "source": [
    "The resulting logistic regression model confirmed much of what the exploratory process adumbrated:\n",
    "\n",
    "<img src='./visuals/cath_coefs.png'>\n",
    "<img src='./visuals/orth_coefs.png'>\n",
    "\n",
    "Words signifying the subreddit's primary denomination of focus served as major predictors in terms of class probability, as did words associated with particular doctrines, practices and/or figures of each respective tradition."
   ]
  },
  {
   "cell_type": "markdown",
   "id": "30655686-3619-4103-beb7-89123e76b3cd",
   "metadata": {},
   "source": [
    "## Part V: Conclusion"
   ]
  },
  {
   "cell_type": "markdown",
   "id": "ee699bb6-96ec-4f6e-94c9-e1ccccdb82d6",
   "metadata": {},
   "source": [
    "The central premise of the project--that classification of posts according to denomination (or at least according to subreddit) is to a high degree possible--has been confirmed by the final model. There may still be room for future revision to make this model even more accurate and to ease down some of the overfitting, but even at present, it performs well above the baseline. Further, it does so largely by picking up on themes and preoccupations on which these denominations diverge, shedding light for observers on the nature of these differences.\n",
    "\n",
    "Such capacity could indeed be used in the future not merely to detect differences between two \"similar\" denominations, but between subgroups or subsects within a single denomination, and illustrate the ways that they might differ. In addition to being of interest to any adherents to such traditions, this might also allow for anticipating and understanding movements as they form, and the degree to which this or that subpopulation does or does not transform as a result."
   ]
  }
 ],
 "metadata": {
  "kernelspec": {
   "display_name": "Python 3",
   "language": "python",
   "name": "python3"
  },
  "language_info": {
   "codemirror_mode": {
    "name": "ipython",
    "version": 3
   },
   "file_extension": ".py",
   "mimetype": "text/x-python",
   "name": "python",
   "nbconvert_exporter": "python",
   "pygments_lexer": "ipython3",
   "version": "3.8.8"
  }
 },
 "nbformat": 4,
 "nbformat_minor": 5
}
