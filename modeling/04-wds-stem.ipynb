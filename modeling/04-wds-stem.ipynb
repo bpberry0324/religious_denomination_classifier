{
 "cells": [
  {
   "cell_type": "markdown",
   "id": "82d247a0-e735-4a58-90fa-e5d5c0044a2b",
   "metadata": {},
   "source": [
    "## Modeling Stemmed Text (Words)"
   ]
  },
  {
   "cell_type": "markdown",
   "id": "75f16f46-caab-4902-9288-a9aee000ccbc",
   "metadata": {},
   "source": [
    "Same process as the previous three, with details in `01-wds-dgts-lem.ipynb`. The end of this notebook includes a random forest model (fit to count-vectorized text) that ultimately became one of two models fine-tuned and used in the final comparison and lost only to a slightly more accurate logistic regression model.\n",
    "\n",
    "Imports, data read-in, and a `train-test-split`:"
   ]
  },
  {
   "cell_type": "code",
   "execution_count": 1,
   "id": "9df8e54f-3b48-4d1a-a3bc-6ca4cecb7a94",
   "metadata": {
    "tags": []
   },
   "outputs": [],
   "source": [
    "import pandas as pd\n",
    "import numpy as np\n",
    "import matplotlib.pyplot as plt\n",
    "import seaborn as sns\n",
    "\n",
    "from sklearn.feature_extraction.text import CountVectorizer, TfidfVectorizer\n",
    "from sklearn.model_selection import train_test_split, cross_val_score, GridSearchCV\n",
    "from sklearn.pipeline import Pipeline\n",
    "from sklearn.linear_model import LogisticRegression\n",
    "from sklearn.metrics import confusion_matrix, ConfusionMatrixDisplay\n",
    "from sklearn.naive_bayes import MultinomialNB, BernoulliNB\n",
    "from sklearn.svm import LinearSVC\n",
    "from sklearn.tree import DecisionTreeClassifier, plot_tree\n",
    "from sklearn.ensemble import BaggingClassifier\n",
    "from sklearn.ensemble import AdaBoostClassifier\n",
    "from sklearn.ensemble import RandomForestClassifier, ExtraTreesClassifier"
   ]
  },
  {
   "cell_type": "code",
   "execution_count": 2,
   "id": "43153fca-a462-445f-a16e-f82cd3972fdf",
   "metadata": {},
   "outputs": [],
   "source": [
    "df = pd.read_csv('../datasets/main_final.csv')[['simp_stem', 'subreddit']].reset_index(drop=True)"
   ]
  },
  {
   "cell_type": "code",
   "execution_count": 3,
   "id": "d43c1559-45a9-4a26-8d2c-f3d780dd30de",
   "metadata": {},
   "outputs": [],
   "source": [
    "X = df['simp_stem']\n",
    "y = df['subreddit']\n",
    "\n",
    "X_train, X_test, y_train, y_test=train_test_split(X, y, stratify = y)"
   ]
  },
  {
   "cell_type": "markdown",
   "id": "35004e08-aa44-420c-9ece-20388aeb98cd",
   "metadata": {},
   "source": [
    "Datasets are count-vectorized and vectorized by term frequency:"
   ]
  },
  {
   "cell_type": "code",
   "execution_count": 4,
   "id": "9794f2fa-47c2-44d2-841e-f469a421e10f",
   "metadata": {},
   "outputs": [],
   "source": [
    "cvec = CountVectorizer()\n",
    "cvec.fit(X_train)\n",
    "X_train_cv = pd.DataFrame(cvec.transform(X_train).todense(), columns = cvec.get_feature_names())\n",
    "X_test_cv = pd.DataFrame(cvec.transform(X_test).todense(), columns = cvec.get_feature_names())"
   ]
  },
  {
   "cell_type": "code",
   "execution_count": 5,
   "id": "1611efaf-56ab-48c3-ba45-4db50712916b",
   "metadata": {},
   "outputs": [],
   "source": [
    "tvec = TfidfVectorizer()\n",
    "tvec.fit(X_train)\n",
    "X_train_tv = pd.DataFrame(tvec.transform(X_train).todense(), columns = tvec.get_feature_names())\n",
    "X_test_tv = pd.DataFrame(tvec.transform(X_test).todense(), columns = tvec.get_feature_names())"
   ]
  },
  {
   "cell_type": "markdown",
   "id": "ba21d299-ce63-433e-ae01-9568ccc678fa",
   "metadata": {},
   "source": [
    "First, logistic regression. Even here, when fit to the data as vectorized by term frequency, logistic regression edges out the best random forest model."
   ]
  },
  {
   "cell_type": "code",
   "execution_count": 6,
   "id": "4ca1bb0b-344d-4b86-ad13-f3ae13b9337f",
   "metadata": {},
   "outputs": [],
   "source": [
    "logreg = LogisticRegression()\n",
    "\n",
    "pipe_params = {\n",
    "    'penalty' : ['l1', 'l2'],\n",
    "    'C' : np.linspace(0.1, 1, 10),\n",
    "    'solver' : ['liblinear']\n",
    "}"
   ]
  },
  {
   "cell_type": "code",
   "execution_count": 7,
   "id": "39cf3049-324d-4028-ac61-eab5dd48dbdf",
   "metadata": {},
   "outputs": [],
   "source": [
    "gs = GridSearchCV(logreg, param_grid = pipe_params, cv = 5)"
   ]
  },
  {
   "cell_type": "code",
   "execution_count": 8,
   "id": "41a3690b-0c61-427d-81d5-65d40397d221",
   "metadata": {},
   "outputs": [
    {
     "data": {
      "text/plain": [
       "GridSearchCV(cv=5, estimator=LogisticRegression(),\n",
       "             param_grid={'C': array([0.1, 0.2, 0.3, 0.4, 0.5, 0.6, 0.7, 0.8, 0.9, 1. ]),\n",
       "                         'penalty': ['l1', 'l2'], 'solver': ['liblinear']})"
      ]
     },
     "execution_count": 8,
     "metadata": {},
     "output_type": "execute_result"
    }
   ],
   "source": [
    "gs.fit(X_train_cv, y_train)"
   ]
  },
  {
   "cell_type": "code",
   "execution_count": 9,
   "id": "4e61af4c-93a4-4381-91ae-91d0342a608c",
   "metadata": {},
   "outputs": [
    {
     "data": {
      "text/plain": [
       "{'C': 0.1, 'penalty': 'l2', 'solver': 'liblinear'}"
      ]
     },
     "execution_count": 9,
     "metadata": {},
     "output_type": "execute_result"
    }
   ],
   "source": [
    "gs.best_params_"
   ]
  },
  {
   "cell_type": "code",
   "execution_count": 10,
   "id": "b1c5250c-0d8d-4631-a47b-90461246894c",
   "metadata": {},
   "outputs": [
    {
     "name": "stdout",
     "output_type": "stream",
     "text": [
      "Best cross-validation score:  0.8218872763303608 \n",
      " Best training score:  0.9352015950376606 \n",
      " Best testing score:  0.8255813953488372\n"
     ]
    }
   ],
   "source": [
    "print('Best cross-validation score: ', gs.best_score_, '\\n',\n",
    "      'Best training score: ', gs.score(X_train_cv, y_train), '\\n',\n",
    "      'Best testing score: ', gs.score(X_test_cv, y_test))"
   ]
  },
  {
   "cell_type": "code",
   "execution_count": 11,
   "id": "891b7493-72bb-40ac-975d-b590ac52b777",
   "metadata": {},
   "outputs": [
    {
     "data": {
      "text/plain": [
       "GridSearchCV(cv=5, estimator=LogisticRegression(),\n",
       "             param_grid={'C': array([0.1, 0.2, 0.3, 0.4, 0.5, 0.6, 0.7, 0.8, 0.9, 1. ]),\n",
       "                         'penalty': ['l1', 'l2'], 'solver': ['liblinear']})"
      ]
     },
     "execution_count": 11,
     "metadata": {},
     "output_type": "execute_result"
    }
   ],
   "source": [
    "gs.fit(X_train_tv, y_train)"
   ]
  },
  {
   "cell_type": "code",
   "execution_count": 12,
   "id": "d010d66d-38bf-49f7-b2b5-5af9f5448c4b",
   "metadata": {},
   "outputs": [
    {
     "data": {
      "text/plain": [
       "{'C': 0.9, 'penalty': 'l2', 'solver': 'liblinear'}"
      ]
     },
     "execution_count": 12,
     "metadata": {},
     "output_type": "execute_result"
    }
   ],
   "source": [
    "gs.best_params_"
   ]
  },
  {
   "cell_type": "code",
   "execution_count": 13,
   "id": "b21897a5-84ff-4f7d-94b1-b425f90f2a58",
   "metadata": {},
   "outputs": [
    {
     "name": "stdout",
     "output_type": "stream",
     "text": [
      "Best cross-validation score:  0.8322982486816797 \n",
      " Best training score:  0.91116526362428 \n",
      " Best testing score:  0.8401993355481727\n"
     ]
    }
   ],
   "source": [
    "print('Best cross-validation score: ', gs.best_score_, '\\n',\n",
    "      'Best training score: ', gs.score(X_train_tv, y_train), '\\n',\n",
    "      'Best testing score: ', gs.score(X_test_tv, y_test))"
   ]
  },
  {
   "cell_type": "markdown",
   "id": "2d4bc687-6977-41af-a104-e0fef4c27841",
   "metadata": {},
   "source": [
    "Bagging models are run, with nothing remarkable as a result (though, again, far more accurate than the baseline)."
   ]
  },
  {
   "cell_type": "code",
   "execution_count": 14,
   "id": "ff1cbce8-1688-419b-a45f-83a31e5c2329",
   "metadata": {},
   "outputs": [],
   "source": [
    "bc = BaggingClassifier(n_estimators = 11)"
   ]
  },
  {
   "cell_type": "code",
   "execution_count": 15,
   "id": "49f0e567-3be3-4a21-b427-aa2168c80b0a",
   "metadata": {},
   "outputs": [
    {
     "data": {
      "text/plain": [
       "BaggingClassifier(n_estimators=11)"
      ]
     },
     "execution_count": 15,
     "metadata": {},
     "output_type": "execute_result"
    }
   ],
   "source": [
    "bc.fit(X_train_cv, y_train)"
   ]
  },
  {
   "cell_type": "code",
   "execution_count": 16,
   "id": "c6c22bc7-7afd-4869-b480-05e412d3b159",
   "metadata": {},
   "outputs": [
    {
     "name": "stdout",
     "output_type": "stream",
     "text": [
      "Training score:  0.9881479840496233\n",
      "Cross-validation score:  0.8103686388554003\n",
      "Testing score:  0.8086378737541529\n"
     ]
    }
   ],
   "source": [
    "print('Training score: ', bc.score(X_train_cv, y_train))\n",
    "print('Cross-validation score: ', cross_val_score(bc, X_train_cv, y_train, cv= 5).mean())\n",
    "print('Testing score: ', bc.score(X_test_cv, y_test))"
   ]
  },
  {
   "cell_type": "code",
   "execution_count": 17,
   "id": "e132dbc6-ef6d-426e-b4f1-d6ba68c66530",
   "metadata": {},
   "outputs": [
    {
     "data": {
      "text/plain": [
       "BaggingClassifier(n_estimators=11)"
      ]
     },
     "execution_count": 17,
     "metadata": {},
     "output_type": "execute_result"
    }
   ],
   "source": [
    "bc.fit(X_train_tv, y_train)"
   ]
  },
  {
   "cell_type": "code",
   "execution_count": 18,
   "id": "091784fd-9700-4597-97a3-76d88dff4b3a",
   "metadata": {},
   "outputs": [
    {
     "name": "stdout",
     "output_type": "stream",
     "text": [
      "Training score:  0.9914709791758972\n",
      "Cross-validation score:  0.807045336720013\n",
      "Testing score:  0.8046511627906977\n"
     ]
    }
   ],
   "source": [
    "print('Training score: ', bc.score(X_train_tv, y_train))\n",
    "print('Cross-validation score: ', cross_val_score(bc, X_train_tv, y_train, cv= 5).mean())\n",
    "print('Testing score: ', bc.score(X_test_tv, y_test))"
   ]
  },
  {
   "cell_type": "markdown",
   "id": "f4878e59-fe59-4460-b7fc-650306227aa0",
   "metadata": {},
   "source": [
    "AdaBoost beats out the baseline also, but fades in comparison to logistic regression and random forests."
   ]
  },
  {
   "cell_type": "code",
   "execution_count": 19,
   "id": "d28d049c-fc68-49a7-b1c3-ca98f6eff6b4",
   "metadata": {},
   "outputs": [
    {
     "data": {
      "text/plain": [
       "AdaBoostClassifier()"
      ]
     },
     "execution_count": 19,
     "metadata": {},
     "output_type": "execute_result"
    }
   ],
   "source": [
    "abc = AdaBoostClassifier(n_estimators = 50)\n",
    "abc.fit(X_train_cv, y_train)"
   ]
  },
  {
   "cell_type": "code",
   "execution_count": 20,
   "id": "d89abf6c-082a-44ff-8af5-f0b8316b1fb3",
   "metadata": {},
   "outputs": [
    {
     "data": {
      "text/plain": [
       "0.8190075321222863"
      ]
     },
     "execution_count": 20,
     "metadata": {},
     "output_type": "execute_result"
    }
   ],
   "source": [
    "abc.score(X_train_cv, y_train)"
   ]
  },
  {
   "cell_type": "code",
   "execution_count": 21,
   "id": "34b4f4c2-9307-48a9-8860-35cc30134b69",
   "metadata": {},
   "outputs": [
    {
     "data": {
      "text/plain": [
       "0.8089700996677741"
      ]
     },
     "execution_count": 21,
     "metadata": {},
     "output_type": "execute_result"
    }
   ],
   "source": [
    "abc.score(X_test_cv, y_test)"
   ]
  },
  {
   "cell_type": "code",
   "execution_count": 22,
   "id": "2729373c-a484-45a6-9962-0f602aa6e0b4",
   "metadata": {},
   "outputs": [
    {
     "data": {
      "text/plain": [
       "AdaBoostClassifier(n_estimators=100)"
      ]
     },
     "execution_count": 22,
     "metadata": {},
     "output_type": "execute_result"
    }
   ],
   "source": [
    "abc = AdaBoostClassifier(n_estimators = 100)\n",
    "abc.fit(X_train_cv, y_train)"
   ]
  },
  {
   "cell_type": "code",
   "execution_count": 23,
   "id": "0685be48-fe3f-4eeb-ad25-d7dcc28a7f88",
   "metadata": {},
   "outputs": [
    {
     "data": {
      "text/plain": [
       "0.8407177669472752"
      ]
     },
     "execution_count": 23,
     "metadata": {},
     "output_type": "execute_result"
    }
   ],
   "source": [
    "abc.score(X_train_cv, y_train)"
   ]
  },
  {
   "cell_type": "code",
   "execution_count": 24,
   "id": "2593a2db-22b0-46f0-8e7c-f4b3704cfb5b",
   "metadata": {},
   "outputs": [
    {
     "data": {
      "text/plain": [
       "0.8262458471760797"
      ]
     },
     "execution_count": 24,
     "metadata": {},
     "output_type": "execute_result"
    }
   ],
   "source": [
    "abc.score(X_test_cv, y_test)"
   ]
  },
  {
   "cell_type": "code",
   "execution_count": 25,
   "id": "ffd3a345-5d13-4048-9302-4e886819daae",
   "metadata": {},
   "outputs": [
    {
     "data": {
      "text/plain": [
       "AdaBoostClassifier(n_estimators=150)"
      ]
     },
     "execution_count": 25,
     "metadata": {},
     "output_type": "execute_result"
    }
   ],
   "source": [
    "abc = AdaBoostClassifier(n_estimators = 150)\n",
    "abc.fit(X_train_cv, y_train)"
   ]
  },
  {
   "cell_type": "code",
   "execution_count": 26,
   "id": "173b58f5-cfb3-47b3-892e-094609278a20",
   "metadata": {},
   "outputs": [
    {
     "data": {
      "text/plain": [
       "0.8517944173681878"
      ]
     },
     "execution_count": 26,
     "metadata": {},
     "output_type": "execute_result"
    }
   ],
   "source": [
    "abc.score(X_train_cv, y_train)"
   ]
  },
  {
   "cell_type": "code",
   "execution_count": 27,
   "id": "c587f759-6058-4533-ab5e-c6138843734a",
   "metadata": {},
   "outputs": [
    {
     "data": {
      "text/plain": [
       "0.8186046511627907"
      ]
     },
     "execution_count": 27,
     "metadata": {},
     "output_type": "execute_result"
    }
   ],
   "source": [
    "abc.score(X_test_cv, y_test)"
   ]
  },
  {
   "cell_type": "code",
   "execution_count": 28,
   "id": "3e9e7890-71ff-4d10-99a7-c68092dcb5b1",
   "metadata": {},
   "outputs": [
    {
     "data": {
      "text/plain": [
       "AdaBoostClassifier()"
      ]
     },
     "execution_count": 28,
     "metadata": {},
     "output_type": "execute_result"
    }
   ],
   "source": [
    "abc = AdaBoostClassifier(n_estimators = 50)\n",
    "abc.fit(X_train_tv, y_train)"
   ]
  },
  {
   "cell_type": "code",
   "execution_count": 29,
   "id": "eb5cebba-38df-49ba-9a2b-9a5663c91282",
   "metadata": {},
   "outputs": [
    {
     "data": {
      "text/plain": [
       "0.8259858218874613"
      ]
     },
     "execution_count": 29,
     "metadata": {},
     "output_type": "execute_result"
    }
   ],
   "source": [
    "abc.score(X_train_tv, y_train)"
   ]
  },
  {
   "cell_type": "code",
   "execution_count": 30,
   "id": "778705ac-34a1-4456-a309-acb5a0744a9c",
   "metadata": {},
   "outputs": [
    {
     "data": {
      "text/plain": [
       "0.8129568106312293"
      ]
     },
     "execution_count": 30,
     "metadata": {},
     "output_type": "execute_result"
    }
   ],
   "source": [
    "abc.score(X_test_tv, y_test)"
   ]
  },
  {
   "cell_type": "code",
   "execution_count": 31,
   "id": "87c3f29d-a278-48ac-bcf8-b5bf66fdc763",
   "metadata": {},
   "outputs": [
    {
     "data": {
      "text/plain": [
       "AdaBoostClassifier(n_estimators=100)"
      ]
     },
     "execution_count": 31,
     "metadata": {},
     "output_type": "execute_result"
    }
   ],
   "source": [
    "abc = AdaBoostClassifier(n_estimators = 100)\n",
    "abc.fit(X_train_tv, y_train)"
   ]
  },
  {
   "cell_type": "code",
   "execution_count": 32,
   "id": "3bb66aa5-5ada-4a44-997b-e04b2c47cc80",
   "metadata": {},
   "outputs": [
    {
     "data": {
      "text/plain": [
       "0.843265396544085"
      ]
     },
     "execution_count": 32,
     "metadata": {},
     "output_type": "execute_result"
    }
   ],
   "source": [
    "abc.score(X_train_tv, y_train)"
   ]
  },
  {
   "cell_type": "code",
   "execution_count": 33,
   "id": "ff9d7ba1-06c6-4a91-b5b5-3b4f5fd3706d",
   "metadata": {},
   "outputs": [
    {
     "data": {
      "text/plain": [
       "0.8122923588039868"
      ]
     },
     "execution_count": 33,
     "metadata": {},
     "output_type": "execute_result"
    }
   ],
   "source": [
    "abc.score(X_test_tv, y_test)"
   ]
  },
  {
   "cell_type": "code",
   "execution_count": 34,
   "id": "39903654-d908-482a-acb8-5262f84c1dc3",
   "metadata": {},
   "outputs": [
    {
     "data": {
      "text/plain": [
       "AdaBoostClassifier(n_estimators=150)"
      ]
     },
     "execution_count": 34,
     "metadata": {},
     "output_type": "execute_result"
    }
   ],
   "source": [
    "abc = AdaBoostClassifier(n_estimators = 150)\n",
    "abc.fit(X_train_tv, y_train)"
   ]
  },
  {
   "cell_type": "code",
   "execution_count": 35,
   "id": "dc050ee9-8837-4152-bcf6-dfbc6ed01322",
   "metadata": {},
   "outputs": [
    {
     "data": {
      "text/plain": [
       "0.8617634027470094"
      ]
     },
     "execution_count": 35,
     "metadata": {},
     "output_type": "execute_result"
    }
   ],
   "source": [
    "abc.score(X_train_tv, y_train)"
   ]
  },
  {
   "cell_type": "code",
   "execution_count": 36,
   "id": "5d8e7fae-7acc-45c6-9ae9-4a0dceba171a",
   "metadata": {},
   "outputs": [
    {
     "data": {
      "text/plain": [
       "0.8146179401993355"
      ]
     },
     "execution_count": 36,
     "metadata": {},
     "output_type": "execute_result"
    }
   ],
   "source": [
    "abc.score(X_test_tv, y_test)"
   ]
  },
  {
   "cell_type": "markdown",
   "id": "b39e1a13-524d-42d7-9b9f-0af9e94c19da",
   "metadata": {},
   "source": [
    "Random forests:"
   ]
  },
  {
   "cell_type": "code",
   "execution_count": 37,
   "id": "29dd4784-a653-4b64-876a-fe223a585e89",
   "metadata": {},
   "outputs": [],
   "source": [
    "rf = RandomForestClassifier()\n",
    "\n",
    "rf_params = {\n",
    "    'n_estimators' : [100, 150],\n",
    "    'max_depth'    : [None, 4]\n",
    "}\n",
    "\n",
    "gs = GridSearchCV(rf, param_grid=rf_params, cv= 5)"
   ]
  },
  {
   "cell_type": "markdown",
   "id": "f7f86cfc-426e-4d85-a33a-99a277c8ebf8",
   "metadata": {},
   "source": [
    "The model fit in the cell directly below reflects the strongest random forest model developed during the course of this project:"
   ]
  },
  {
   "cell_type": "code",
   "execution_count": 38,
   "id": "fee13889-2dcb-44d4-9fc8-f7831faa35f0",
   "metadata": {},
   "outputs": [
    {
     "data": {
      "text/plain": [
       "GridSearchCV(cv=5, estimator=RandomForestClassifier(),\n",
       "             param_grid={'max_depth': [None, 4], 'n_estimators': [100, 150]})"
      ]
     },
     "execution_count": 38,
     "metadata": {},
     "output_type": "execute_result"
    }
   ],
   "source": [
    "gs.fit(X_train_cv, y_train)"
   ]
  },
  {
   "cell_type": "code",
   "execution_count": 39,
   "id": "5674af04-d4a4-418f-ad8c-e82faeda26cd",
   "metadata": {},
   "outputs": [
    {
     "data": {
      "text/plain": [
       "{'max_depth': None, 'n_estimators': 150}"
      ]
     },
     "execution_count": 39,
     "metadata": {},
     "output_type": "execute_result"
    }
   ],
   "source": [
    "gs.best_params_"
   ]
  },
  {
   "cell_type": "code",
   "execution_count": 40,
   "id": "7c588860-9401-48e8-a45d-590df9565d4d",
   "metadata": {},
   "outputs": [
    {
     "data": {
      "text/plain": [
       "0.8314153192037621"
      ]
     },
     "execution_count": 40,
     "metadata": {},
     "output_type": "execute_result"
    }
   ],
   "source": [
    "gs.best_score_"
   ]
  },
  {
   "cell_type": "code",
   "execution_count": 41,
   "id": "ead96cf5-28cb-4797-9376-7154843a24ef",
   "metadata": {},
   "outputs": [
    {
     "data": {
      "text/plain": [
       "0.9990031014621179"
      ]
     },
     "execution_count": 41,
     "metadata": {},
     "output_type": "execute_result"
    }
   ],
   "source": [
    "gs.score(X_train_cv, y_train)"
   ]
  },
  {
   "cell_type": "code",
   "execution_count": 42,
   "id": "4a2f01a7-52ae-43b1-8e85-8d8107f507b4",
   "metadata": {},
   "outputs": [
    {
     "data": {
      "text/plain": [
       "0.8382059800664452"
      ]
     },
     "execution_count": 42,
     "metadata": {},
     "output_type": "execute_result"
    }
   ],
   "source": [
    "gs.score(X_test_cv, y_test)"
   ]
  },
  {
   "cell_type": "code",
   "execution_count": 43,
   "id": "678c9b81-fdf1-4412-9905-e0be9a27b9d1",
   "metadata": {},
   "outputs": [
    {
     "data": {
      "text/plain": [
       "GridSearchCV(cv=5, estimator=RandomForestClassifier(),\n",
       "             param_grid={'max_depth': [None, 4], 'n_estimators': [100, 150]})"
      ]
     },
     "execution_count": 43,
     "metadata": {},
     "output_type": "execute_result"
    }
   ],
   "source": [
    "gs.fit(X_train_tv, y_train)"
   ]
  },
  {
   "cell_type": "code",
   "execution_count": 44,
   "id": "af07d307-ca71-44cf-9630-a3ee65994cb5",
   "metadata": {},
   "outputs": [
    {
     "data": {
      "text/plain": [
       "{'max_depth': None, 'n_estimators': 150}"
      ]
     },
     "execution_count": 44,
     "metadata": {},
     "output_type": "execute_result"
    }
   ],
   "source": [
    "gs.best_params_"
   ]
  },
  {
   "cell_type": "code",
   "execution_count": 45,
   "id": "be4ed54a-81c6-48cc-b688-d12f496b3993",
   "metadata": {},
   "outputs": [
    {
     "data": {
      "text/plain": [
       "0.8295306196948922"
      ]
     },
     "execution_count": 45,
     "metadata": {},
     "output_type": "execute_result"
    }
   ],
   "source": [
    "gs.best_score_"
   ]
  },
  {
   "cell_type": "code",
   "execution_count": 46,
   "id": "6b90d66c-ede5-4f8d-b9a2-6401ccb5b56a",
   "metadata": {},
   "outputs": [
    {
     "data": {
      "text/plain": [
       "0.9990031014621179"
      ]
     },
     "execution_count": 46,
     "metadata": {},
     "output_type": "execute_result"
    }
   ],
   "source": [
    "gs.score(X_train_tv, y_train)"
   ]
  },
  {
   "cell_type": "code",
   "execution_count": 47,
   "id": "b1a13d60-d5c1-4dea-9203-8a292914a188",
   "metadata": {},
   "outputs": [
    {
     "data": {
      "text/plain": [
       "0.8325581395348837"
      ]
     },
     "execution_count": 47,
     "metadata": {},
     "output_type": "execute_result"
    }
   ],
   "source": [
    "gs.score(X_test_tv, y_test)"
   ]
  }
 ],
 "metadata": {
  "kernelspec": {
   "display_name": "Python 3",
   "language": "python",
   "name": "python3"
  },
  "language_info": {
   "codemirror_mode": {
    "name": "ipython",
    "version": 3
   },
   "file_extension": ".py",
   "mimetype": "text/x-python",
   "name": "python",
   "nbconvert_exporter": "python",
   "pygments_lexer": "ipython3",
   "version": "3.8.8"
  }
 },
 "nbformat": 4,
 "nbformat_minor": 5
}
