{
 "cells": [
  {
   "cell_type": "code",
   "execution_count": 1,
   "id": "1b0fe72d-0019-496d-af65-bc9aa27c1251",
   "metadata": {},
   "outputs": [],
   "source": [
    "import pandas as pd\n",
    "from sklearn.feature_extraction.text import CountVectorizer, TfidfVectorizer\n",
    "from sklearn.model_selection import train_test_split, cross_val_score, GridSearchCV\n",
    "\n",
    "from sklearn.ensemble import RandomForestClassifier"
   ]
  },
  {
   "cell_type": "code",
   "execution_count": 2,
   "id": "74e78d7b-e03d-44f1-a335-53d54d30ea58",
   "metadata": {},
   "outputs": [],
   "source": [
    "df = pd.read_csv('../datasets/main_final.csv')[['simp_stem', 'subreddit']].reset_index(drop=True)"
   ]
  },
  {
   "cell_type": "code",
   "execution_count": 3,
   "id": "5a6d59e4-3494-406e-8445-1a3682ae9a12",
   "metadata": {},
   "outputs": [],
   "source": [
    "X = df['simp_stem']\n",
    "y = df['subreddit']\n",
    "\n",
    "X_train, X_test, y_train, y_test=train_test_split(X, y, stratify = y)"
   ]
  },
  {
   "cell_type": "code",
   "execution_count": 4,
   "id": "6cb9726d-5a8b-4054-acc1-5afb5ad8cf41",
   "metadata": {},
   "outputs": [],
   "source": [
    "cvec = CountVectorizer(min_df = 3, max_df = 0.9, ngram_range = (1,2))\n",
    "cvec.fit(X_train)\n",
    "X_train_cv = pd.DataFrame(cvec.transform(X_train).todense(), columns = cvec.get_feature_names())\n",
    "X_test_cv = pd.DataFrame(cvec.transform(X_test).todense(), columns = cvec.get_feature_names())"
   ]
  },
  {
   "cell_type": "code",
   "execution_count": 5,
   "id": "7d129598-894b-4afc-b7c0-4c886f6f6983",
   "metadata": {},
   "outputs": [],
   "source": [
    "rf = RandomForestClassifier()\n",
    "\n",
    "rf_params = {\n",
    "    'n_estimators' : [250]\n",
    "}"
   ]
  },
  {
   "cell_type": "code",
   "execution_count": 6,
   "id": "b93c8220-6ecd-4b47-8a5b-0e5e989d2231",
   "metadata": {},
   "outputs": [],
   "source": [
    "gs = GridSearchCV(rf, param_grid=rf_params, cv= 5)"
   ]
  },
  {
   "cell_type": "code",
   "execution_count": 7,
   "id": "caa602e6-b62c-48df-92bf-9548a6b6f27b",
   "metadata": {},
   "outputs": [
    {
     "data": {
      "text/plain": [
       "GridSearchCV(cv=5, estimator=RandomForestClassifier(),\n",
       "             param_grid={'n_estimators': [250]})"
      ]
     },
     "execution_count": 7,
     "metadata": {},
     "output_type": "execute_result"
    }
   ],
   "source": [
    "gs.fit(X_train_cv, y_train)"
   ]
  },
  {
   "cell_type": "code",
   "execution_count": 8,
   "id": "9eabef01-317d-4e6a-81bb-cb102d94aca0",
   "metadata": {},
   "outputs": [
    {
     "data": {
      "text/plain": [
       "0.8317446615314296"
      ]
     },
     "execution_count": 8,
     "metadata": {},
     "output_type": "execute_result"
    }
   ],
   "source": [
    "gs.best_score_"
   ]
  },
  {
   "cell_type": "code",
   "execution_count": 9,
   "id": "8334769f-7aae-494b-a60d-9f98ad1ce7bb",
   "metadata": {},
   "outputs": [
    {
     "data": {
      "text/plain": [
       "0.8362126245847176"
      ]
     },
     "execution_count": 9,
     "metadata": {},
     "output_type": "execute_result"
    }
   ],
   "source": [
    "gs.score(X_test_cv, y_test)"
   ]
  },
  {
   "cell_type": "code",
   "execution_count": 10,
   "id": "afd5ad08-4d97-4e47-b69c-1e7c2714981f",
   "metadata": {},
   "outputs": [],
   "source": [
    "new_df = y_test.to_frame()"
   ]
  },
  {
   "cell_type": "code",
   "execution_count": null,
   "id": "67585f8d-9757-436e-819f-4ef2983d5cbd",
   "metadata": {},
   "outputs": [],
   "source": []
  }
 ],
 "metadata": {
  "kernelspec": {
   "display_name": "Python 3",
   "language": "python",
   "name": "python3"
  },
  "language_info": {
   "codemirror_mode": {
    "name": "ipython",
    "version": 3
   },
   "file_extension": ".py",
   "mimetype": "text/x-python",
   "name": "python",
   "nbconvert_exporter": "python",
   "pygments_lexer": "ipython3",
   "version": "3.8.8"
  }
 },
 "nbformat": 4,
 "nbformat_minor": 5
}
