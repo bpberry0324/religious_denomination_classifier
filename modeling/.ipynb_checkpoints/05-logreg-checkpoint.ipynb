{
 "cells": [
  {
   "cell_type": "code",
   "execution_count": 1,
   "id": "1b968f28-70e7-43b0-902f-e7370317e6d0",
   "metadata": {},
   "outputs": [],
   "source": [
    "import pandas as pd\n",
    "from sklearn.feature_extraction.text import CountVectorizer, TfidfVectorizer\n",
    "from sklearn.model_selection import train_test_split, cross_val_score, GridSearchCV\n",
    "from sklearn.linear_model import LogisticRegression"
   ]
  },
  {
   "cell_type": "code",
   "execution_count": 2,
   "id": "5a2ad0c9-9cbb-4d7b-a8b6-3b7a6d7220c6",
   "metadata": {},
   "outputs": [],
   "source": [
    "df = pd.read_csv('../datasets/main_final.csv')[['comp_stem', 'subreddit']].reset_index(drop=True)\n",
    "\n",
    "X = df['comp_stem']\n",
    "y = df['subreddit']\n",
    "\n",
    "X_train, X_test, y_train, y_test=train_test_split(X, y, stratify = y)"
   ]
  },
  {
   "cell_type": "code",
   "execution_count": 3,
   "id": "f0fd97c6-810f-48ef-8c65-6a9c02f103fc",
   "metadata": {},
   "outputs": [],
   "source": [
    "tvec = TfidfVectorizer(min_df = 3, max_df = 0.9, ngram_range = (1,2))\n",
    "tvec.fit(X_train)\n",
    "X_train_tv = pd.DataFrame(tvec.transform(X_train).todense(), columns = tvec.get_feature_names())\n",
    "X_test_tv = pd.DataFrame(tvec.transform(X_test).todense(), columns = tvec.get_feature_names())"
   ]
  },
  {
   "cell_type": "code",
   "execution_count": 4,
   "id": "0546be10-52a1-46ef-85a9-47f2d0a31c48",
   "metadata": {},
   "outputs": [],
   "source": [
    "logreg = LogisticRegression()\n",
    "\n",
    "pipe_params = {\n",
    "    'penalty' : ['l2'],\n",
    "    'C' : [3],\n",
    "    'solver' : ['liblinear']\n",
    "}"
   ]
  },
  {
   "cell_type": "code",
   "execution_count": 5,
   "id": "adac220c-b8a3-4ec2-85be-77c84d513a7a",
   "metadata": {},
   "outputs": [],
   "source": [
    "gs = GridSearchCV(logreg, param_grid = pipe_params, cv = 5)"
   ]
  },
  {
   "cell_type": "code",
   "execution_count": 7,
   "id": "bc05d0ab-44ab-4d2b-9c2a-c2184c8cde0f",
   "metadata": {},
   "outputs": [
    {
     "data": {
      "text/plain": [
       "GridSearchCV(cv=5, estimator=LogisticRegression(),\n",
       "             param_grid={'C': [3], 'penalty': ['l2'], 'solver': ['liblinear']})"
      ]
     },
     "execution_count": 7,
     "metadata": {},
     "output_type": "execute_result"
    }
   ],
   "source": [
    "gs.fit(X_train_tv, y_train)"
   ]
  },
  {
   "cell_type": "code",
   "execution_count": 8,
   "id": "0e05b8fa-12fe-4662-b0c9-a039ff88d519",
   "metadata": {},
   "outputs": [
    {
     "data": {
      "text/plain": [
       "0.838835399391993"
      ]
     },
     "execution_count": 8,
     "metadata": {},
     "output_type": "execute_result"
    }
   ],
   "source": [
    "gs.best_score_"
   ]
  },
  {
   "cell_type": "code",
   "execution_count": 10,
   "id": "d22a18b0-cf63-47e9-bc91-ba66d9949b54",
   "metadata": {},
   "outputs": [
    {
     "data": {
      "text/plain": [
       "0.9755206025697829"
      ]
     },
     "execution_count": 10,
     "metadata": {},
     "output_type": "execute_result"
    }
   ],
   "source": [
    "gs.score(X_train_tv, y_train)"
   ]
  },
  {
   "cell_type": "code",
   "execution_count": 11,
   "id": "1fb9f44d-0916-407c-8922-ba5e6257ac1e",
   "metadata": {},
   "outputs": [
    {
     "data": {
      "text/plain": [
       "0.8551495016611296"
      ]
     },
     "execution_count": 11,
     "metadata": {},
     "output_type": "execute_result"
    }
   ],
   "source": [
    "gs.score(X_test_tv, y_test)"
   ]
  },
  {
   "cell_type": "code",
   "execution_count": 12,
   "id": "e3e9e534-644b-469e-b179-a79fa81b14e9",
   "metadata": {},
   "outputs": [],
   "source": [
    "new_df = y_test.to_frame()"
   ]
  },
  {
   "cell_type": "code",
   "execution_count": 13,
   "id": "9ac48e47-ef9a-4144-8be8-905324e9aeee",
   "metadata": {},
   "outputs": [],
   "source": [
    "new_df['predictions'] = gs.predict(X_test_tv)"
   ]
  },
  {
   "cell_type": "code",
   "execution_count": 14,
   "id": "3cce67b7-9cf5-4e9f-8bfa-4e782111f2cf",
   "metadata": {},
   "outputs": [],
   "source": [
    "new_df.to_csv('../datasets/logreg.csv', index = False)"
   ]
  }
 ],
 "metadata": {
  "kernelspec": {
   "display_name": "Python 3",
   "language": "python",
   "name": "python3"
  },
  "language_info": {
   "codemirror_mode": {
    "name": "ipython",
    "version": 3
   },
   "file_extension": ".py",
   "mimetype": "text/x-python",
   "name": "python",
   "nbconvert_exporter": "python",
   "pygments_lexer": "ipython3",
   "version": "3.8.8"
  }
 },
 "nbformat": 4,
 "nbformat_minor": 5
}
